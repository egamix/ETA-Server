{
 "cells": [
  {
   "cell_type": "code",
   "execution_count": 1,
   "metadata": {},
   "outputs": [],
   "source": [
    "from __future__ import print_function\n",
    "\n",
    "from IPython import display\n",
    "\n",
    "import math\n",
    "import matplotlib\n",
    "import sklearn\n",
    "import pandas as pd\n",
    "import numpy as np\n",
    "from matplotlib import pyplot as plt\n",
    "from numpy import radians, cos, sin, arcsin, arccos, sqrt, pi, arctan2, degrees, arctan\n",
    "\n",
    "from tqdm import tqdm, tqdm_notebook\n",
    "tqdm.pandas()\n",
    "tqdm.pandas(tqdm_notebook)\n",
    "\n",
    "from joblib import dump, load\n",
    "\n",
    "from natsort import natsorted\n",
    "from sklearn.model_selection import train_test_split\n",
    "from sklearn.model_selection import RandomizedSearchCV, GridSearchCV, train_test_split\n",
    "from sklearn import metrics\n",
    "\n",
    "from sklearn.decomposition import PCA\n",
    "from sklearn.cluster import DBSCAN\n",
    "from sklearn.cluster import KMeans\n",
    "\n",
    "\n",
    "pd.options.display.max_rows = 10"
   ]
  },
  {
   "cell_type": "code",
   "execution_count": 2,
   "metadata": {},
   "outputs": [],
   "source": [
    "\n",
    "def haversine(lat1, lon1, lat2, lon2):\n",
    "    #ensure using numpy and not math, or pandas series cannot be passed\n",
    "    lat1, lon1, lat2, lon2 = map(radians, [lat1, lon1, lat2, lon2])\n",
    "    dlon = lon2 - lon1\n",
    "    dlat = lat2 - lat1\n",
    "    a = sin(dlat/2)**2 + cos(lat1) * cos(lat2) * sin(dlon/2)**2\n",
    "    c = 2 * arcsin(sqrt(a))\n",
    "    r = 6378.137 ##radius of earth km\n",
    "    return c * r\n",
    "\n",
    "def compute_dist(df):\n",
    "    next_df = df.shift(1)\n",
    "    dist = haversine(df.iloc[:,0], df.iloc[:,1],\n",
    "                    next_df.iloc[:,0], next_df.iloc[:,1])\n",
    "    return dist\n",
    "\n",
    "def compute_time(df):\n",
    "    next_df = df.shift(1)\n",
    "#     df[\"time\"] = pd.to_datetime(df[\"time_utc\"], format=\"%Y-%m-%d %H:%M:%S.%f\", errors='raise')\n",
    "    timedelt = df[\"time\"] - next_df[\"time\"]\n",
    "    return timedelt\n",
    "\n",
    "def compute_speed(df):\n",
    "    kinematics = df.copy()\n",
    "    kinematics[\"distance_travelled\"] = compute_dist(kinematics[[\"latitude\", \"longitude\"]].astype(float)).values\n",
    "    kinematics[\"time_elapsed\"] = compute_time(kinematics).values\n",
    "    kinematics[\"time_elapsed_seconds\"] = kinematics[\"time_elapsed\"]/np.timedelta64(1,'s')\n",
    "    kinematics[\"speed m/s\"] = (kinematics[\"distance_travelled\"]*1000)/kinematics[\"time_elapsed_seconds\"]\n",
    "    kinematics[\"speed kmh\"] = kinematics[\"speed m/s\"]*3.6\n",
    "    kinematics[\"bearing\"] = compute_bearing(kinematics[[\"latitude\", \"longitude\"]].astype(float))\n",
    "    kinematics['bearing_diff'] = compute_bearing_diff(kinematics)\n",
    "    kinematics[\"rate_of_turn\"] = kinematics[\"bearing_diff\"]/kinematics[\"time_elapsed_seconds\"]\n",
    "    kinematics[\"acceleration\"] = (speed_diff(kinematics[\"speed m/s\"])) /kinematics[\"time_elapsed_seconds\"]\n",
    "    kinematics.drop(columns = ['time_elapsed'], inplace = True)\n",
    "    kinematics.fillna(0, inplace = True)\n",
    "#     df[\"distance_travelled\"] = kinematics[\"distance_travelled\"].values\n",
    "#     df[\"speed kmh\"] = kinematics[\"speed kmh\"].values\n",
    "    return kinematics\n",
    "\n",
    "def compute_bearing(df):\n",
    "    next_df = df.shift(1)\n",
    "    bear = cal_bearing(df.iloc[:,0], df.iloc[:,1],\n",
    "                    next_df.iloc[:,0], next_df.iloc[:,1])\n",
    "    return bear\n",
    "\n",
    "def bearing_diff(bearing, prev_bearing):\n",
    "    \n",
    "    \"\"\"\n",
    "    Calculates the absolute difference between two angles\n",
    "    Parameters\n",
    "      bearing: bearing in degrees of the first angle\n",
    "      prev_bearing: bearing in degrees of the second angle\n",
    "    Returns the difference in degrees as a float\n",
    "    \"\"\"\n",
    "\n",
    "    # if bearing - prev_bearing <=180 then taking the absolute difference is correct\n",
    "    if bearing - prev_bearing <= 180:\n",
    "        bearing_diff = abs(bearing - prev_bearing)\n",
    "    # otherwise if bearing is larger than previous_bearing the total difference is the prev_bearing plus the difference\n",
    "    # between 360 and the bearing\n",
    "    elif bearing > prev_bearing:\n",
    "        bearing_diff = prev_bearing + (360 - bearing)\n",
    "    # otherwise if prev_bearing is larger than bearing the total difference is the bearing plus the difference \n",
    "    # between 360 and the prev_bearing\n",
    "    elif prev_bearing > bearing:\n",
    "        bearing_diff = bearing + (360 - prev_bearing)\n",
    "    # in all other cases take the absolute difference\n",
    "    else:\n",
    "        bearing_diff = abs(bearing - prev_bearing)\n",
    "\n",
    "    return bearing_diff\n",
    "\n",
    "def cal_bearing(lat1, lon1, lat2, lon2):\n",
    "    \"\"\"\n",
    "    Calculates the bearing between two points using the formula\n",
    "        θ = atan2(sin(Δlong).cos(lat2),\n",
    "                  cos(lat1).sin(lat2) − sin(lat1).cos(lat2).cos(Δlong))\n",
    "    \"\"\"\n",
    "    \n",
    "    lat1, lon1, lat2, lon2 = map(radians, [lat1, lon1, lat2, lon2])\n",
    "\n",
    "    dlon = lon2 - lon1\n",
    "\n",
    "    x = sin(dlon) * cos(lat2)\n",
    "    y1 = cos(lat1) * sin(lat2)\n",
    "    y2 = sin(lat1) * cos(lat2) * cos(dlon)\n",
    "    y = y1 - y2\n",
    "\n",
    "    initial_bearing = arctan2(x, y)\n",
    "\n",
    "    initial_bearing = degrees(initial_bearing)\n",
    "    compass_bearing = (initial_bearing + 360) % 360\n",
    "\n",
    "    return compass_bearing\n",
    "\n",
    "def compute_bearing_diff(df):\n",
    "    df1 = df.copy()\n",
    "    df1[\"prev_bearing\"] = df1[\"bearing\"].shift(1)\n",
    "    df1[\"bearing diff\"] = df1.apply(lambda row: bearing_diff(row['bearing'],row['prev_bearing']),axis=1)\n",
    "    return df1[\"bearing diff\"]\n",
    "\n",
    "def speed_diff(df):\n",
    "    next_df = df.shift(1)\n",
    "    diff = df - next_df\n",
    "    return diff\n",
    "\n",
    "def compute_speed(df):\n",
    "    kinematics = df.copy()\n",
    "    kinematics[\"distance_travelled\"] = compute_dist(kinematics[[\"latitude\", \"longitude\"]].astype(float)).values\n",
    "    kinematics[\"time_elapsed\"] = compute_time(kinematics).values\n",
    "    kinematics[\"time_elapsed_seconds\"] = kinematics[\"time_elapsed\"]/np.timedelta64(1,'s')\n",
    "    kinematics[\"speed m/s\"] = (kinematics[\"distance_travelled\"]*1000)/kinematics[\"time_elapsed_seconds\"]\n",
    "    kinematics[\"speed kmh\"] = kinematics[\"speed m/s\"]*3.6\n",
    "    kinematics[\"bearing\"] = compute_bearing(kinematics[[\"latitude\", \"longitude\"]].astype(float))\n",
    "    kinematics['bearing_diff'] = compute_bearing_diff(kinematics)\n",
    "    kinematics[\"rate_of_turn\"] = kinematics[\"bearing_diff\"]/kinematics[\"time_elapsed_seconds\"]\n",
    "    kinematics[\"acceleration\"] = (speed_diff(kinematics[\"speed m/s\"])) /kinematics[\"time_elapsed_seconds\"]\n",
    "    kinematics.drop(columns = ['time_elapsed'], inplace = True)\n",
    "    kinematics.fillna(0, inplace = True)\n",
    "#     df[\"distance_travelled\"] = kinematics[\"distance_travelled\"].values\n",
    "#     df[\"speed kmh\"] = kinematics[\"speed kmh\"].values\n",
    "    return kinematics"
   ]
  },
  {
   "cell_type": "code",
   "execution_count": 3,
   "metadata": {},
   "outputs": [],
   "source": [
    "df =  pd.read_csv('/mnt/hgfs/FYP/porto_cleaned_100000.csv', parse_dates = ['time'])"
   ]
  },
  {
   "cell_type": "code",
   "execution_count": 4,
   "metadata": {},
   "outputs": [],
   "source": [
    "grouper = df.groupby('ID')"
   ]
  },
  {
   "cell_type": "code",
   "execution_count": 5,
   "metadata": {},
   "outputs": [
    {
     "name": "stderr",
     "output_type": "stream",
     "text": [
      "100%|██████████| 427/427 [00:27<00:00, 19.25it/s]\n"
     ]
    }
   ],
   "source": [
    "a = []\n",
    "b = []\n",
    "c = []\n",
    "for name, val in tqdm(grouper):\n",
    "    idx_grper = val.groupby(val['Unnamed: 0'].diff().ne(1).cumsum())\n",
    "    for name2, taxi in idx_grper:\n",
    "        a.append(len(taxi))\n",
    "        b.append(name)\n",
    "        c.append(taxi)"
   ]
  },
  {
   "cell_type": "code",
   "execution_count": 8,
   "metadata": {},
   "outputs": [],
   "source": [
    "val = df[df['ID'] == 20000496]"
   ]
  },
  {
   "cell_type": "code",
   "execution_count": 9,
   "metadata": {},
   "outputs": [],
   "source": [
    "a = []\n",
    "b = []\n",
    "idx_grper = val.groupby(val['Unnamed: 0'].diff().ne(1).cumsum())\n",
    "for name, taxi in idx_grper:\n",
    "    a.append(taxi)\n",
    "    b.append(len(taxi))"
   ]
  },
  {
   "cell_type": "code",
   "execution_count": 107,
   "metadata": {},
   "outputs": [
    {
     "data": {
      "text/plain": [
       "<matplotlib.axes._subplots.AxesSubplot at 0x7fc311fe3240>"
      ]
     },
     "execution_count": 107,
     "metadata": {},
     "output_type": "execute_result"
    },
    {
     "data": {
      "image/png": "[encoded data removed]",
      "text/plain": [
       "<Figure size 1152x648 with 1 Axes>"
      ]
     },
     "metadata": {
      "needs_background": "light"
     },
     "output_type": "display_data"
    }
   ],
   "source": [
    "c[13].plot('longitude', 'latitude', kind = 'scatter', figsize = (16,9))"
   ]
  },
  {
   "cell_type": "code",
   "execution_count": 6,
   "metadata": {},
   "outputs": [],
   "source": [
    "def time_to_dest(df):\n",
    "    end_time = df['time'].iloc[-1]\n",
    "    df['time_to_dest'] = (end_time - df['time']).dt.total_seconds().astype(int)\n",
    "def set_dropoff(df):\n",
    "    df['dropoff_latitude'] = df['latitude'].iloc[-1]\n",
    "    df['dropoff_longitude'] = df['longitude'].iloc[-1]\n"
   ]
  },
  {
   "cell_type": "code",
   "execution_count": 7,
   "metadata": {},
   "outputs": [],
   "source": [
    "import tensorflow as tf\n",
    "from tensorflow.python.keras.backend import tanh, conv1d, expand_dims, squeeze, clip\n",
    "from tensorflow.python.keras.models import Sequential, Model\n",
    "from tensorflow.python.keras.layers import Input, Dense, GRU, Embedding, Flatten, Conv1D, Conv2D, Lambda, concatenate, Reshape, TimeDistributed, MaxPooling1D, Permute, BatchNormalization, ELU\n",
    "from tensorflow.python.keras.layers.recurrent import LSTM,RNN\n",
    "from tensorflow.python.keras.layers.core import Dense, Activation, Dropout\n",
    "from tensorflow.python.keras.callbacks import EarlyStopping, ModelCheckpoint, TensorBoard, ReduceLROnPlateau\n",
    "from tensorflow.python.keras import losses\n",
    "# from tensorflow.python.keras.activations import elu\n",
    "\n",
    "\n",
    "import tensorflow.python.keras.backend as K\n",
    "\n",
    "\n",
    "from sklearn.preprocessing import MinMaxScaler\n",
    "from sklearn.metrics import mean_squared_error\n",
    "from sklearn.utils import shuffle\n",
    "from sklearn.model_selection import train_test_split"
   ]
  },
  {
   "cell_type": "code",
   "execution_count": 8,
   "metadata": {},
   "outputs": [],
   "source": [
    "from tensorflow.python.keras import backend as K\n",
    "# import tensorflow as tf\n",
    "def rmsle_K(y, y0):\n",
    "    return K.sqrt(K.mean(K.square(tf.log1p(y) - tf.log1p(y0))))\n",
    "def rmsletf(y_pred, y_true): \n",
    "    y_pred= tf.cast(y_pred, tf.float64) \n",
    "    y_true= tf.cast(y_true, tf.float64) \n",
    "    y_pred=tf.nn.relu(y_pred) \n",
    "    return np.abs(tf.sqrt(tf.reduce_mean(tf.squared_difference(tf.log1p(y_pred), tf.log1p(y_true)))))"
   ]
  },
  {
   "cell_type": "code",
   "execution_count": 10,
   "metadata": {},
   "outputs": [],
   "source": [
    "bad_idx = []\n",
    "for i, d in enumerate(c):\n",
    "    if len(d) < 40:\n",
    "        bad_idx.append(i)\n",
    "c = [i for j, i in enumerate(c) if j not in bad_idx]\n"
   ]
  },
  {
   "cell_type": "code",
   "execution_count": null,
   "metadata": {},
   "outputs": [],
   "source": [
    "counter = 0\n",
    "for i in c:\n",
    "    i.plot('longitude', 'latitude', kind = 'scatter', figsize = (16,9))\n",
    "    counter += 1\n",
    "    if counter > 5:\n",
    "        break"
   ]
  },
  {
   "cell_type": "code",
   "execution_count": 12,
   "metadata": {},
   "outputs": [],
   "source": [
    "def coord_pca(taxi):\n",
    "    coords = np.vstack((taxi[['pickup_latitude', 'pickup_longitude']].values,\n",
    "                        taxi[['dropoff_latitude', 'dropoff_longitude']].values))\n",
    "    pca = PCA()\n",
    "    pca = pca.fit(coords)\n",
    "    taxi['pickup_pca0'] = pca.transform(taxi[['pickup_latitude', 'pickup_longitude']])[:, 0]\n",
    "    taxi['pickup_pca1'] = pca.transform(taxi[['pickup_latitude', 'pickup_longitude']])[:, 1]\n",
    "    taxi['dropoff_pca0'] = pca.transform(taxi[['dropoff_latitude', 'dropoff_longitude']])[:, 0]\n",
    "    taxi['dropoff_pca1'] = pca.transform(taxi[['dropoff_latitude', 'dropoff_longitude']])[:, 1]"
   ]
  },
  {
   "cell_type": "code",
   "execution_count": 13,
   "metadata": {},
   "outputs": [
    {
     "data": {
      "text/plain": [
       "KMeans(algorithm='auto', copy_x=True, init='random', max_iter=300,\n",
       "       n_clusters=40, n_init=10, n_jobs=None, precompute_distances='auto',\n",
       "       random_state=0, tol=0.0001, verbose=0)"
      ]
     },
     "execution_count": 13,
     "metadata": {},
     "output_type": "execute_result"
    }
   ],
   "source": [
    "km = KMeans(\n",
    "    n_clusters=40, init='random',\n",
    "    n_init=10, max_iter=300, \n",
    "    tol=1e-04, random_state=0\n",
    ")\n",
    "coordinates = pd.concat(c)[[\"longitude\", \"latitude\"]].sample(10000).values\n",
    "km.fit(coordinates)"
   ]
  },
  {
   "cell_type": "code",
   "execution_count": 14,
   "metadata": {},
   "outputs": [],
   "source": [
    "def add_travel_vector_features(df):\n",
    "    df['abs_diff_longitude'] = (df.dropoff_longitude - df.longitude).abs()\n",
    "    df['abs_diff_latitude'] = (df.dropoff_latitude - df.latitude).abs()\n",
    "    \n",
    "    #the Haversine version\n",
    "    foob = df[[\"latitude\", \"longitude\",\"dropoff_latitude\", \"dropoff_longitude\"]].astype(float)\n",
    "    df['hav_dist_lat'] = haversine(foob.iloc[:,0], foob.iloc[:,1],foob.iloc[:,2],foob.iloc[:,1])\n",
    "    df['hav_dist_lon'] = haversine(foob.iloc[:,2], foob.iloc[:,1],foob.iloc[:,2],foob.iloc[:,3])\n",
    "    \n",
    "    \n",
    "def convert_km(df):\n",
    "    df['abs_diff_longitude'] = df.abs_diff_longitude*80.4\n",
    "    df['abs_diff_latitude'] = df.abs_diff_latitude*111"
   ]
  },
  {
   "cell_type": "code",
   "execution_count": 108,
   "metadata": {
    "scrolled": true
   },
   "outputs": [],
   "source": [
    "d = []\n",
    "for i, df in (enumerate(c)):\n",
    "    df2 = compute_speed(c[i])\n",
    "    time_to_dest(df2)\n",
    "    set_dropoff(df2)\n",
    "    add_travel_vector_features(df2)\n",
    "    convert_km(df2)\n",
    "    df2['Euclidean'] = (df2.abs_diff_latitude**2 + df2.abs_diff_longitude**2)**0.5 \n",
    "    \n",
    "    df2['manh_length_hav'] = df2.hav_dist_lat + df2.hav_dist_lon\n",
    "    df2['manh_length_euc'] = df2.abs_diff_latitude + df2.abs_diff_longitude\n",
    "    \n",
    "    df2['minkowski_0.9'] = (df2.hav_dist_lat**0.92 + df2.hav_dist_lon**0.92)**(1/0.92)\n",
    "    df2['dist_to_dest'] = haversine(df2['latitude'].values, df2['longitude'].values, df2['dropoff_latitude'].values, df2['dropoff_longitude'].values)\n",
    "    df2['pickup_weekday'] = df2['time'].dt.weekday\n",
    "    df2['pickup_hour_weekofyear'] = df2['time'].dt.weekofyear\n",
    "    df2['pickup_hour'] = df2['time'].dt.hour\n",
    "    df2['pickup_minute'] = df2['time'].dt.minute\n",
    "    df2['pickup_dt'] = (df2['time'] - df2['time'].min()).dt.total_seconds()\n",
    "    df2['pickup_week_hour'] = df2['pickup_weekday'] * 24 + df2['pickup_hour']\n",
    "#     df2[['next_lat', 'next_lon']] = df2[['latitude', 'longitude']].shift(-5)\n",
    "    \n",
    "    coordinates = df2[['latitude', 'longitude']]\n",
    "    pickup_km = km.predict(coordinates)\n",
    "    df2[\"pickup_cluster\"] = pickup_km\n",
    "    \n",
    "    coordinates = df2[['dropoff_latitude', 'dropoff_longitude']]\n",
    "    dropoff_km = km.predict(coordinates)\n",
    "    df2[\"dropoff_cluster\"] = dropoff_km\n",
    "    \n",
    "    d.append(df2)\n",
    "    if i > 3000:\n",
    "        break"
   ]
  },
  {
   "cell_type": "code",
   "execution_count": 16,
   "metadata": {},
   "outputs": [],
   "source": [
    "# for i in d:\n",
    "#     i.dropna(inplace = True)"
   ]
  },
  {
   "cell_type": "code",
   "execution_count": 109,
   "metadata": {},
   "outputs": [],
   "source": [
    "import random\n",
    "random.shuffle(d)\n",
    "mu, sigma = 0, 5"
   ]
  },
  {
   "cell_type": "code",
   "execution_count": 110,
   "metadata": {},
   "outputs": [],
   "source": [
    "x_data = []\n",
    "for i in d:\n",
    "    x_data.append(i.drop(['Unnamed: 0', 'time', 'ID', 'time_elapsed_seconds', 'time_to_dest', 'next_lat', 'next_lon'] ,axis =1))\n",
    "y_data = []\n",
    "for i in d:\n",
    "    noise = np.random.normal(mu, sigma, [len(i),1]) \n",
    "    y_data.append(i[['time_to_dest']] + abs(noise))\n",
    "#     y_data.append(i[['next_lat', 'next_lon']])"
   ]
  },
  {
   "cell_type": "code",
   "execution_count": 111,
   "metadata": {},
   "outputs": [
    {
     "data": {
      "text/html": [
       "<div>\n",
       "<style scoped>\n",
       "    .dataframe tbody tr th:only-of-type {\n",
       "        vertical-align: middle;\n",
       "    }\n",
       "\n",
       "    .dataframe tbody tr th {\n",
       "        vertical-align: top;\n",
       "    }\n",
       "\n",
       "    .dataframe thead th {\n",
       "        text-align: right;\n",
       "    }\n",
       "</style>\n",
       "<table border=\"1\" class=\"dataframe\">\n",
       "  <thead>\n",
       "    <tr style=\"text-align: right;\">\n",
       "      <th></th>\n",
       "      <th>time_to_dest</th>\n",
       "    </tr>\n",
       "  </thead>\n",
       "  <tbody>\n",
       "    <tr>\n",
       "      <th>3735312</th>\n",
       "      <td>902.349460</td>\n",
       "    </tr>\n",
       "    <tr>\n",
       "      <th>3735313</th>\n",
       "      <td>872.998114</td>\n",
       "    </tr>\n",
       "    <tr>\n",
       "      <th>3735314</th>\n",
       "      <td>857.795944</td>\n",
       "    </tr>\n",
       "    <tr>\n",
       "      <th>3735315</th>\n",
       "      <td>816.636496</td>\n",
       "    </tr>\n",
       "    <tr>\n",
       "      <th>3735316</th>\n",
       "      <td>798.186228</td>\n",
       "    </tr>\n",
       "    <tr>\n",
       "      <th>...</th>\n",
       "      <td>...</td>\n",
       "    </tr>\n",
       "    <tr>\n",
       "      <th>3735360</th>\n",
       "      <td>65.715549</td>\n",
       "    </tr>\n",
       "    <tr>\n",
       "      <th>3735361</th>\n",
       "      <td>50.828096</td>\n",
       "    </tr>\n",
       "    <tr>\n",
       "      <th>3735362</th>\n",
       "      <td>32.467743</td>\n",
       "    </tr>\n",
       "    <tr>\n",
       "      <th>3735363</th>\n",
       "      <td>19.014808</td>\n",
       "    </tr>\n",
       "    <tr>\n",
       "      <th>3735364</th>\n",
       "      <td>7.050676</td>\n",
       "    </tr>\n",
       "  </tbody>\n",
       "</table>\n",
       "<p>53 rows × 1 columns</p>\n",
       "</div>"
      ],
      "text/plain": [
       "         time_to_dest\n",
       "3735312    902.349460\n",
       "3735313    872.998114\n",
       "3735314    857.795944\n",
       "3735315    816.636496\n",
       "3735316    798.186228\n",
       "...               ...\n",
       "3735360     65.715549\n",
       "3735361     50.828096\n",
       "3735362     32.467743\n",
       "3735363     19.014808\n",
       "3735364      7.050676\n",
       "\n",
       "[53 rows x 1 columns]"
      ]
     },
     "execution_count": 111,
     "metadata": {},
     "output_type": "execute_result"
    }
   ],
   "source": [
    "y_data[1]"
   ]
  },
  {
   "cell_type": "code",
   "execution_count": 177,
   "metadata": {},
   "outputs": [
    {
     "data": {
      "text/html": [
       "<div>\n",
       "<style scoped>\n",
       "    .dataframe tbody tr th:only-of-type {\n",
       "        vertical-align: middle;\n",
       "    }\n",
       "\n",
       "    .dataframe tbody tr th {\n",
       "        vertical-align: top;\n",
       "    }\n",
       "\n",
       "    .dataframe thead th {\n",
       "        text-align: right;\n",
       "    }\n",
       "</style>\n",
       "<table border=\"1\" class=\"dataframe\">\n",
       "  <thead>\n",
       "    <tr style=\"text-align: right;\">\n",
       "      <th></th>\n",
       "      <th>Unnamed: 0</th>\n",
       "      <th>time</th>\n",
       "      <th>longitude</th>\n",
       "      <th>latitude</th>\n",
       "      <th>ID</th>\n",
       "    </tr>\n",
       "  </thead>\n",
       "  <tbody>\n",
       "    <tr>\n",
       "      <th>84793</th>\n",
       "      <td>0</td>\n",
       "      <td>2013-07-01 12:17:05</td>\n",
       "      <td>-8.572221</td>\n",
       "      <td>41.163489</td>\n",
       "      <td>20000001</td>\n",
       "    </tr>\n",
       "  </tbody>\n",
       "</table>\n",
       "</div>"
      ],
      "text/plain": [
       "       Unnamed: 0                time  longitude   latitude        ID\n",
       "84793           0 2013-07-01 12:17:05  -8.572221  41.163489  20000001"
      ]
     },
     "execution_count": 177,
     "metadata": {},
     "output_type": "execute_result"
    }
   ],
   "source": [
    "c[1][0:1]"
   ]
  },
  {
   "cell_type": "code",
   "execution_count": 180,
   "metadata": {},
   "outputs": [
    {
     "data": {
      "text/html": [
       "<div>\n",
       "<style scoped>\n",
       "    .dataframe tbody tr th:only-of-type {\n",
       "        vertical-align: middle;\n",
       "    }\n",
       "\n",
       "    .dataframe tbody tr th {\n",
       "        vertical-align: top;\n",
       "    }\n",
       "\n",
       "    .dataframe thead th {\n",
       "        text-align: right;\n",
       "    }\n",
       "</style>\n",
       "<table border=\"1\" class=\"dataframe\">\n",
       "  <thead>\n",
       "    <tr style=\"text-align: right;\">\n",
       "      <th></th>\n",
       "      <th>Unnamed: 0</th>\n",
       "      <th>time</th>\n",
       "      <th>longitude</th>\n",
       "      <th>latitude</th>\n",
       "      <th>ID</th>\n",
       "      <th>distance_travelled</th>\n",
       "      <th>time_elapsed_seconds</th>\n",
       "      <th>speed m/s</th>\n",
       "      <th>speed kmh</th>\n",
       "      <th>bearing</th>\n",
       "      <th>bearing_diff</th>\n",
       "      <th>rate_of_turn</th>\n",
       "      <th>acceleration</th>\n",
       "    </tr>\n",
       "  </thead>\n",
       "  <tbody>\n",
       "    <tr>\n",
       "      <th>84793</th>\n",
       "      <td>0</td>\n",
       "      <td>2013-07-01 12:17:05</td>\n",
       "      <td>-8.572221</td>\n",
       "      <td>41.163489</td>\n",
       "      <td>20000001</td>\n",
       "      <td>0.000000</td>\n",
       "      <td>0.0</td>\n",
       "      <td>0.000000</td>\n",
       "      <td>0.000000</td>\n",
       "      <td>0.000000</td>\n",
       "      <td>0.000000</td>\n",
       "      <td>0.0</td>\n",
       "      <td>0.000000</td>\n",
       "    </tr>\n",
       "    <tr>\n",
       "      <th>84794</th>\n",
       "      <td>1</td>\n",
       "      <td>2013-07-01 12:17:35</td>\n",
       "      <td>-8.572203</td>\n",
       "      <td>41.163489</td>\n",
       "      <td>20000001</td>\n",
       "      <td>0.001508</td>\n",
       "      <td>30.0</td>\n",
       "      <td>0.050283</td>\n",
       "      <td>0.181019</td>\n",
       "      <td>270.000006</td>\n",
       "      <td>0.000000</td>\n",
       "      <td>0.0</td>\n",
       "      <td>0.000000</td>\n",
       "    </tr>\n",
       "    <tr>\n",
       "      <th>84795</th>\n",
       "      <td>2</td>\n",
       "      <td>2013-07-01 12:17:50</td>\n",
       "      <td>-8.572203</td>\n",
       "      <td>41.163498</td>\n",
       "      <td>20000001</td>\n",
       "      <td>0.001002</td>\n",
       "      <td>15.0</td>\n",
       "      <td>0.066792</td>\n",
       "      <td>0.240450</td>\n",
       "      <td>180.000000</td>\n",
       "      <td>90.000006</td>\n",
       "      <td>6.0</td>\n",
       "      <td>0.001101</td>\n",
       "    </tr>\n",
       "  </tbody>\n",
       "</table>\n",
       "</div>"
      ],
      "text/plain": [
       "       Unnamed: 0                time  longitude   latitude        ID  \\\n",
       "84793           0 2013-07-01 12:17:05  -8.572221  41.163489  20000001   \n",
       "84794           1 2013-07-01 12:17:35  -8.572203  41.163489  20000001   \n",
       "84795           2 2013-07-01 12:17:50  -8.572203  41.163498  20000001   \n",
       "\n",
       "       distance_travelled  time_elapsed_seconds  speed m/s  speed kmh  \\\n",
       "84793            0.000000                   0.0   0.000000   0.000000   \n",
       "84794            0.001508                  30.0   0.050283   0.181019   \n",
       "84795            0.001002                  15.0   0.066792   0.240450   \n",
       "\n",
       "          bearing  bearing_diff  rate_of_turn  acceleration  \n",
       "84793    0.000000      0.000000           0.0      0.000000  \n",
       "84794  270.000006      0.000000           0.0      0.000000  \n",
       "84795  180.000000     90.000006           6.0      0.001101  "
      ]
     },
     "execution_count": 180,
     "metadata": {},
     "output_type": "execute_result"
    }
   ],
   "source": [
    "compute_speed(c[1][0:3])"
   ]
  },
  {
   "cell_type": "code",
   "execution_count": 174,
   "metadata": {},
   "outputs": [
    {
     "data": {
      "text/html": [
       "<div>\n",
       "<style scoped>\n",
       "    .dataframe tbody tr th:only-of-type {\n",
       "        vertical-align: middle;\n",
       "    }\n",
       "\n",
       "    .dataframe tbody tr th {\n",
       "        vertical-align: top;\n",
       "    }\n",
       "\n",
       "    .dataframe thead th {\n",
       "        text-align: right;\n",
       "    }\n",
       "</style>\n",
       "<table border=\"1\" class=\"dataframe\">\n",
       "  <thead>\n",
       "    <tr style=\"text-align: right;\">\n",
       "      <th></th>\n",
       "      <th>longitude</th>\n",
       "      <th>latitude</th>\n",
       "      <th>distance_travelled</th>\n",
       "      <th>speed m/s</th>\n",
       "      <th>speed kmh</th>\n",
       "      <th>bearing</th>\n",
       "      <th>bearing_diff</th>\n",
       "      <th>rate_of_turn</th>\n",
       "      <th>acceleration</th>\n",
       "      <th>dropoff_latitude</th>\n",
       "      <th>dropoff_longitude</th>\n",
       "      <th>abs_diff_longitude</th>\n",
       "      <th>abs_diff_latitude</th>\n",
       "      <th>hav_dist_lat</th>\n",
       "      <th>hav_dist_lon</th>\n",
       "      <th>Euclidean</th>\n",
       "      <th>manh_length_hav</th>\n",
       "      <th>manh_length_euc</th>\n",
       "      <th>minkowski_0.9</th>\n",
       "      <th>dist_to_dest</th>\n",
       "      <th>pickup_weekday</th>\n",
       "      <th>pickup_hour_weekofyear</th>\n",
       "      <th>pickup_hour</th>\n",
       "      <th>pickup_minute</th>\n",
       "      <th>pickup_dt</th>\n",
       "      <th>pickup_week_hour</th>\n",
       "      <th>pickup_cluster</th>\n",
       "      <th>dropoff_cluster</th>\n",
       "    </tr>\n",
       "  </thead>\n",
       "  <tbody>\n",
       "    <tr>\n",
       "      <th>3735312</th>\n",
       "      <td>-8.604855</td>\n",
       "      <td>41.161131</td>\n",
       "      <td>0.000000</td>\n",
       "      <td>0.000000</td>\n",
       "      <td>0.000000</td>\n",
       "      <td>0.000000</td>\n",
       "      <td>0.000000</td>\n",
       "      <td>0.000000</td>\n",
       "      <td>0.000000</td>\n",
       "      <td>41.118579</td>\n",
       "      <td>-8.622279</td>\n",
       "      <td>1.400890</td>\n",
       "      <td>4.723272</td>\n",
       "      <td>4.736867</td>\n",
       "      <td>1.461221</td>\n",
       "      <td>4.926641</td>\n",
       "      <td>6.198088</td>\n",
       "      <td>6.124162</td>\n",
       "      <td>6.505267</td>\n",
       "      <td>4.956984</td>\n",
       "      <td>4</td>\n",
       "      <td>29</td>\n",
       "      <td>15</td>\n",
       "      <td>46</td>\n",
       "      <td>0.0</td>\n",
       "      <td>111</td>\n",
       "      <td>8</td>\n",
       "      <td>8</td>\n",
       "    </tr>\n",
       "    <tr>\n",
       "      <th>3735313</th>\n",
       "      <td>-8.605035</td>\n",
       "      <td>41.160726</td>\n",
       "      <td>0.047541</td>\n",
       "      <td>1.584710</td>\n",
       "      <td>5.704956</td>\n",
       "      <td>18.500501</td>\n",
       "      <td>0.000000</td>\n",
       "      <td>0.000000</td>\n",
       "      <td>0.000000</td>\n",
       "      <td>41.118579</td>\n",
       "      <td>-8.622279</td>\n",
       "      <td>1.386418</td>\n",
       "      <td>4.678317</td>\n",
       "      <td>4.691783</td>\n",
       "      <td>1.446126</td>\n",
       "      <td>4.879427</td>\n",
       "      <td>6.137909</td>\n",
       "      <td>6.064735</td>\n",
       "      <td>6.442013</td>\n",
       "      <td>4.909456</td>\n",
       "      <td>4</td>\n",
       "      <td>29</td>\n",
       "      <td>15</td>\n",
       "      <td>47</td>\n",
       "      <td>30.0</td>\n",
       "      <td>111</td>\n",
       "      <td>8</td>\n",
       "      <td>8</td>\n",
       "    </tr>\n",
       "    <tr>\n",
       "      <th>3735314</th>\n",
       "      <td>-8.605035</td>\n",
       "      <td>41.160726</td>\n",
       "      <td>0.000000</td>\n",
       "      <td>0.000000</td>\n",
       "      <td>0.000000</td>\n",
       "      <td>0.000000</td>\n",
       "      <td>18.500501</td>\n",
       "      <td>1.233367</td>\n",
       "      <td>-0.105647</td>\n",
       "      <td>41.118579</td>\n",
       "      <td>-8.622279</td>\n",
       "      <td>1.386418</td>\n",
       "      <td>4.678317</td>\n",
       "      <td>4.691783</td>\n",
       "      <td>1.446126</td>\n",
       "      <td>4.879427</td>\n",
       "      <td>6.137909</td>\n",
       "      <td>6.064735</td>\n",
       "      <td>6.442013</td>\n",
       "      <td>4.909456</td>\n",
       "      <td>4</td>\n",
       "      <td>29</td>\n",
       "      <td>15</td>\n",
       "      <td>47</td>\n",
       "      <td>45.0</td>\n",
       "      <td>111</td>\n",
       "      <td>8</td>\n",
       "      <td>8</td>\n",
       "    </tr>\n",
       "    <tr>\n",
       "      <th>3735315</th>\n",
       "      <td>-8.604747</td>\n",
       "      <td>41.160465</td>\n",
       "      <td>0.037772</td>\n",
       "      <td>0.839385</td>\n",
       "      <td>3.021787</td>\n",
       "      <td>320.281967</td>\n",
       "      <td>39.718033</td>\n",
       "      <td>0.882623</td>\n",
       "      <td>0.018653</td>\n",
       "      <td>41.118579</td>\n",
       "      <td>-8.622279</td>\n",
       "      <td>1.409573</td>\n",
       "      <td>4.649346</td>\n",
       "      <td>4.662728</td>\n",
       "      <td>1.470278</td>\n",
       "      <td>4.858324</td>\n",
       "      <td>6.133007</td>\n",
       "      <td>6.058919</td>\n",
       "      <td>6.439405</td>\n",
       "      <td>4.888903</td>\n",
       "      <td>4</td>\n",
       "      <td>29</td>\n",
       "      <td>15</td>\n",
       "      <td>48</td>\n",
       "      <td>90.0</td>\n",
       "      <td>111</td>\n",
       "      <td>8</td>\n",
       "      <td>8</td>\n",
       "    </tr>\n",
       "    <tr>\n",
       "      <th>3735316</th>\n",
       "      <td>-8.604729</td>\n",
       "      <td>41.160429</td>\n",
       "      <td>0.004282</td>\n",
       "      <td>0.285469</td>\n",
       "      <td>1.027689</td>\n",
       "      <td>339.371926</td>\n",
       "      <td>19.089959</td>\n",
       "      <td>1.272664</td>\n",
       "      <td>-0.036928</td>\n",
       "      <td>41.118579</td>\n",
       "      <td>-8.622279</td>\n",
       "      <td>1.411020</td>\n",
       "      <td>4.645350</td>\n",
       "      <td>4.658721</td>\n",
       "      <td>1.471788</td>\n",
       "      <td>4.854921</td>\n",
       "      <td>6.130509</td>\n",
       "      <td>6.056370</td>\n",
       "      <td>6.436991</td>\n",
       "      <td>4.885535</td>\n",
       "      <td>4</td>\n",
       "      <td>29</td>\n",
       "      <td>15</td>\n",
       "      <td>48</td>\n",
       "      <td>105.0</td>\n",
       "      <td>111</td>\n",
       "      <td>8</td>\n",
       "      <td>8</td>\n",
       "    </tr>\n",
       "    <tr>\n",
       "      <th>...</th>\n",
       "      <td>...</td>\n",
       "      <td>...</td>\n",
       "      <td>...</td>\n",
       "      <td>...</td>\n",
       "      <td>...</td>\n",
       "      <td>...</td>\n",
       "      <td>...</td>\n",
       "      <td>...</td>\n",
       "      <td>...</td>\n",
       "      <td>...</td>\n",
       "      <td>...</td>\n",
       "      <td>...</td>\n",
       "      <td>...</td>\n",
       "      <td>...</td>\n",
       "      <td>...</td>\n",
       "      <td>...</td>\n",
       "      <td>...</td>\n",
       "      <td>...</td>\n",
       "      <td>...</td>\n",
       "      <td>...</td>\n",
       "      <td>...</td>\n",
       "      <td>...</td>\n",
       "      <td>...</td>\n",
       "      <td>...</td>\n",
       "      <td>...</td>\n",
       "      <td>...</td>\n",
       "      <td>...</td>\n",
       "      <td>...</td>\n",
       "    </tr>\n",
       "    <tr>\n",
       "      <th>3735360</th>\n",
       "      <td>-8.623341</td>\n",
       "      <td>41.119209</td>\n",
       "      <td>0.514671</td>\n",
       "      <td>11.437128</td>\n",
       "      <td>41.173662</td>\n",
       "      <td>207.419658</td>\n",
       "      <td>87.718568</td>\n",
       "      <td>1.949302</td>\n",
       "      <td>0.036354</td>\n",
       "      <td>41.118579</td>\n",
       "      <td>-8.622279</td>\n",
       "      <td>0.085385</td>\n",
       "      <td>0.069930</td>\n",
       "      <td>0.070131</td>\n",
       "      <td>0.089062</td>\n",
       "      <td>0.110367</td>\n",
       "      <td>0.159193</td>\n",
       "      <td>0.155315</td>\n",
       "      <td>0.168988</td>\n",
       "      <td>0.113359</td>\n",
       "      <td>4</td>\n",
       "      <td>29</td>\n",
       "      <td>16</td>\n",
       "      <td>0</td>\n",
       "      <td>840.0</td>\n",
       "      <td>112</td>\n",
       "      <td>8</td>\n",
       "      <td>8</td>\n",
       "    </tr>\n",
       "    <tr>\n",
       "      <th>3735361</th>\n",
       "      <td>-8.622846</td>\n",
       "      <td>41.119380</td>\n",
       "      <td>0.045668</td>\n",
       "      <td>3.044530</td>\n",
       "      <td>10.960307</td>\n",
       "      <td>245.365738</td>\n",
       "      <td>37.946080</td>\n",
       "      <td>2.529739</td>\n",
       "      <td>-0.559507</td>\n",
       "      <td>41.118579</td>\n",
       "      <td>-8.622279</td>\n",
       "      <td>0.045587</td>\n",
       "      <td>0.088911</td>\n",
       "      <td>0.089167</td>\n",
       "      <td>0.047550</td>\n",
       "      <td>0.099917</td>\n",
       "      <td>0.136717</td>\n",
       "      <td>0.134498</td>\n",
       "      <td>0.144663</td>\n",
       "      <td>0.101053</td>\n",
       "      <td>4</td>\n",
       "      <td>29</td>\n",
       "      <td>16</td>\n",
       "      <td>1</td>\n",
       "      <td>855.0</td>\n",
       "      <td>112</td>\n",
       "      <td>8</td>\n",
       "      <td>8</td>\n",
       "    </tr>\n",
       "    <tr>\n",
       "      <th>3735362</th>\n",
       "      <td>-8.622594</td>\n",
       "      <td>41.119254</td>\n",
       "      <td>0.025364</td>\n",
       "      <td>1.690950</td>\n",
       "      <td>6.087419</td>\n",
       "      <td>303.572687</td>\n",
       "      <td>58.206950</td>\n",
       "      <td>3.880463</td>\n",
       "      <td>-0.090239</td>\n",
       "      <td>41.118579</td>\n",
       "      <td>-8.622279</td>\n",
       "      <td>0.025326</td>\n",
       "      <td>0.074925</td>\n",
       "      <td>0.075141</td>\n",
       "      <td>0.026417</td>\n",
       "      <td>0.079090</td>\n",
       "      <td>0.101557</td>\n",
       "      <td>0.100251</td>\n",
       "      <td>0.106827</td>\n",
       "      <td>0.079649</td>\n",
       "      <td>4</td>\n",
       "      <td>29</td>\n",
       "      <td>16</td>\n",
       "      <td>1</td>\n",
       "      <td>870.0</td>\n",
       "      <td>112</td>\n",
       "      <td>8</td>\n",
       "      <td>8</td>\n",
       "    </tr>\n",
       "    <tr>\n",
       "      <th>3735363</th>\n",
       "      <td>-8.622504</td>\n",
       "      <td>41.119119</td>\n",
       "      <td>0.016817</td>\n",
       "      <td>1.121131</td>\n",
       "      <td>4.036072</td>\n",
       "      <td>333.332908</td>\n",
       "      <td>29.760221</td>\n",
       "      <td>1.984015</td>\n",
       "      <td>-0.037988</td>\n",
       "      <td>41.118579</td>\n",
       "      <td>-8.622279</td>\n",
       "      <td>0.018090</td>\n",
       "      <td>0.059940</td>\n",
       "      <td>0.060113</td>\n",
       "      <td>0.018869</td>\n",
       "      <td>0.062610</td>\n",
       "      <td>0.078982</td>\n",
       "      <td>0.078030</td>\n",
       "      <td>0.082921</td>\n",
       "      <td>0.063004</td>\n",
       "      <td>4</td>\n",
       "      <td>29</td>\n",
       "      <td>16</td>\n",
       "      <td>1</td>\n",
       "      <td>885.0</td>\n",
       "      <td>112</td>\n",
       "      <td>8</td>\n",
       "      <td>8</td>\n",
       "    </tr>\n",
       "    <tr>\n",
       "      <th>3735364</th>\n",
       "      <td>-8.622279</td>\n",
       "      <td>41.118579</td>\n",
       "      <td>0.063004</td>\n",
       "      <td>4.200294</td>\n",
       "      <td>15.121057</td>\n",
       "      <td>342.573281</td>\n",
       "      <td>9.240373</td>\n",
       "      <td>0.616025</td>\n",
       "      <td>0.205277</td>\n",
       "      <td>41.118579</td>\n",
       "      <td>-8.622279</td>\n",
       "      <td>0.000000</td>\n",
       "      <td>0.000000</td>\n",
       "      <td>0.000000</td>\n",
       "      <td>0.000000</td>\n",
       "      <td>0.000000</td>\n",
       "      <td>0.000000</td>\n",
       "      <td>0.000000</td>\n",
       "      <td>0.000000</td>\n",
       "      <td>0.000000</td>\n",
       "      <td>4</td>\n",
       "      <td>29</td>\n",
       "      <td>16</td>\n",
       "      <td>1</td>\n",
       "      <td>900.0</td>\n",
       "      <td>112</td>\n",
       "      <td>8</td>\n",
       "      <td>8</td>\n",
       "    </tr>\n",
       "  </tbody>\n",
       "</table>\n",
       "<p>53 rows × 28 columns</p>\n",
       "</div>"
      ],
      "text/plain": [
       "         longitude   latitude  distance_travelled  speed m/s  speed kmh  \\\n",
       "3735312  -8.604855  41.161131            0.000000   0.000000   0.000000   \n",
       "3735313  -8.605035  41.160726            0.047541   1.584710   5.704956   \n",
       "3735314  -8.605035  41.160726            0.000000   0.000000   0.000000   \n",
       "3735315  -8.604747  41.160465            0.037772   0.839385   3.021787   \n",
       "3735316  -8.604729  41.160429            0.004282   0.285469   1.027689   \n",
       "...            ...        ...                 ...        ...        ...   \n",
       "3735360  -8.623341  41.119209            0.514671  11.437128  41.173662   \n",
       "3735361  -8.622846  41.119380            0.045668   3.044530  10.960307   \n",
       "3735362  -8.622594  41.119254            0.025364   1.690950   6.087419   \n",
       "3735363  -8.622504  41.119119            0.016817   1.121131   4.036072   \n",
       "3735364  -8.622279  41.118579            0.063004   4.200294  15.121057   \n",
       "\n",
       "            bearing  bearing_diff  rate_of_turn  acceleration  \\\n",
       "3735312    0.000000      0.000000      0.000000      0.000000   \n",
       "3735313   18.500501      0.000000      0.000000      0.000000   \n",
       "3735314    0.000000     18.500501      1.233367     -0.105647   \n",
       "3735315  320.281967     39.718033      0.882623      0.018653   \n",
       "3735316  339.371926     19.089959      1.272664     -0.036928   \n",
       "...             ...           ...           ...           ...   \n",
       "3735360  207.419658     87.718568      1.949302      0.036354   \n",
       "3735361  245.365738     37.946080      2.529739     -0.559507   \n",
       "3735362  303.572687     58.206950      3.880463     -0.090239   \n",
       "3735363  333.332908     29.760221      1.984015     -0.037988   \n",
       "3735364  342.573281      9.240373      0.616025      0.205277   \n",
       "\n",
       "         dropoff_latitude  dropoff_longitude  abs_diff_longitude  \\\n",
       "3735312         41.118579          -8.622279            1.400890   \n",
       "3735313         41.118579          -8.622279            1.386418   \n",
       "3735314         41.118579          -8.622279            1.386418   \n",
       "3735315         41.118579          -8.622279            1.409573   \n",
       "3735316         41.118579          -8.622279            1.411020   \n",
       "...                   ...                ...                 ...   \n",
       "3735360         41.118579          -8.622279            0.085385   \n",
       "3735361         41.118579          -8.622279            0.045587   \n",
       "3735362         41.118579          -8.622279            0.025326   \n",
       "3735363         41.118579          -8.622279            0.018090   \n",
       "3735364         41.118579          -8.622279            0.000000   \n",
       "\n",
       "         abs_diff_latitude  hav_dist_lat  hav_dist_lon  Euclidean  \\\n",
       "3735312           4.723272      4.736867      1.461221   4.926641   \n",
       "3735313           4.678317      4.691783      1.446126   4.879427   \n",
       "3735314           4.678317      4.691783      1.446126   4.879427   \n",
       "3735315           4.649346      4.662728      1.470278   4.858324   \n",
       "3735316           4.645350      4.658721      1.471788   4.854921   \n",
       "...                    ...           ...           ...        ...   \n",
       "3735360           0.069930      0.070131      0.089062   0.110367   \n",
       "3735361           0.088911      0.089167      0.047550   0.099917   \n",
       "3735362           0.074925      0.075141      0.026417   0.079090   \n",
       "3735363           0.059940      0.060113      0.018869   0.062610   \n",
       "3735364           0.000000      0.000000      0.000000   0.000000   \n",
       "\n",
       "         manh_length_hav  manh_length_euc  minkowski_0.9  dist_to_dest  \\\n",
       "3735312         6.198088         6.124162       6.505267      4.956984   \n",
       "3735313         6.137909         6.064735       6.442013      4.909456   \n",
       "3735314         6.137909         6.064735       6.442013      4.909456   \n",
       "3735315         6.133007         6.058919       6.439405      4.888903   \n",
       "3735316         6.130509         6.056370       6.436991      4.885535   \n",
       "...                  ...              ...            ...           ...   \n",
       "3735360         0.159193         0.155315       0.168988      0.113359   \n",
       "3735361         0.136717         0.134498       0.144663      0.101053   \n",
       "3735362         0.101557         0.100251       0.106827      0.079649   \n",
       "3735363         0.078982         0.078030       0.082921      0.063004   \n",
       "3735364         0.000000         0.000000       0.000000      0.000000   \n",
       "\n",
       "         pickup_weekday  pickup_hour_weekofyear  pickup_hour  pickup_minute  \\\n",
       "3735312               4                      29           15             46   \n",
       "3735313               4                      29           15             47   \n",
       "3735314               4                      29           15             47   \n",
       "3735315               4                      29           15             48   \n",
       "3735316               4                      29           15             48   \n",
       "...                 ...                     ...          ...            ...   \n",
       "3735360               4                      29           16              0   \n",
       "3735361               4                      29           16              1   \n",
       "3735362               4                      29           16              1   \n",
       "3735363               4                      29           16              1   \n",
       "3735364               4                      29           16              1   \n",
       "\n",
       "         pickup_dt  pickup_week_hour  pickup_cluster  dropoff_cluster  \n",
       "3735312        0.0               111               8                8  \n",
       "3735313       30.0               111               8                8  \n",
       "3735314       45.0               111               8                8  \n",
       "3735315       90.0               111               8                8  \n",
       "3735316      105.0               111               8                8  \n",
       "...            ...               ...             ...              ...  \n",
       "3735360      840.0               112               8                8  \n",
       "3735361      855.0               112               8                8  \n",
       "3735362      870.0               112               8                8  \n",
       "3735363      885.0               112               8                8  \n",
       "3735364      900.0               112               8                8  \n",
       "\n",
       "[53 rows x 28 columns]"
      ]
     },
     "execution_count": 174,
     "metadata": {},
     "output_type": "execute_result"
    }
   ],
   "source": [
    "x_data[1]"
   ]
  },
  {
   "cell_type": "code",
   "execution_count": 173,
   "metadata": {},
   "outputs": [],
   "source": [
    "pd.set_option('display.max_columns', 30)"
   ]
  },
  {
   "cell_type": "code",
   "execution_count": null,
   "metadata": {},
   "outputs": [],
   "source": [
    " [item for item in x_data if len(item) > 70]"
   ]
  },
  {
   "cell_type": "code",
   "execution_count": 113,
   "metadata": {},
   "outputs": [],
   "source": [
    "x_train = x_data[0:2900]\n",
    "x_test = x_data[2900:]\n",
    "y_train = y_data[0:2900]\n",
    "y_test = y_data[2900:]"
   ]
  },
  {
   "cell_type": "code",
   "execution_count": 114,
   "metadata": {},
   "outputs": [
    {
     "data": {
      "text/plain": [
       "MinMaxScaler(copy=True, feature_range=(-1, 1))"
      ]
     },
     "execution_count": 114,
     "metadata": {},
     "output_type": "execute_result"
    }
   ],
   "source": [
    "# sc = MinMaxScaler(feature_range=(-1,1))\n",
    "scy = MinMaxScaler(feature_range=(-1,1))\n",
    "# scy = sklearn.preprocessing.MaxAbsScaler()\n",
    "sc = sklearn.preprocessing.RobustScaler()\n",
    "# new_df= x_data[].reshape(x_data.shape[0],5)\n",
    "\n",
    "sc.fit(pd.concat(x_train).values)\n",
    "scy.fit(pd.concat(y_train).values)\n"
   ]
  },
  {
   "cell_type": "code",
   "execution_count": 115,
   "metadata": {},
   "outputs": [],
   "source": [
    "bad_idx = []\n",
    "for i, data in enumerate(x_train):\n",
    "    try:\n",
    "        x_train[i] = sc.transform(data)\n",
    "    except:\n",
    "        bad_idx.append(i)\n",
    "    \n",
    "for i, data in enumerate(y_train):\n",
    "    try:\n",
    "        y_train[i] = scy.transform(data)\n",
    "    except:\n",
    "        pass"
   ]
  },
  {
   "cell_type": "code",
   "execution_count": 116,
   "metadata": {},
   "outputs": [],
   "source": [
    "x_train = [i for j, i in enumerate(x_train) if j not in bad_idx]\n",
    "y_train = [i for j, i in enumerate(y_train) if j not in bad_idx]\n"
   ]
  },
  {
   "cell_type": "code",
   "execution_count": 117,
   "metadata": {},
   "outputs": [],
   "source": [
    "x_test = sc.transform(pd.concat(x_test).values)\n",
    "y_test = scy.transform(pd.concat(y_test).values)\n",
    "# y_test = pd.concat(y_test).values"
   ]
  },
  {
   "cell_type": "code",
   "execution_count": 118,
   "metadata": {},
   "outputs": [
    {
     "data": {
      "text/plain": [
       "array([[0.28608308, 0.13615206],\n",
       "       [0.27458343, 0.19045772],\n",
       "       [0.27951185, 0.22071373]])"
      ]
     },
     "execution_count": 118,
     "metadata": {},
     "output_type": "execute_result"
    }
   ],
   "source": [
    "x_train[1][12:15,0:2]"
   ]
  },
  {
   "cell_type": "code",
   "execution_count": 119,
   "metadata": {},
   "outputs": [],
   "source": [
    "def batch_generator_multi(batch_size, sequence_length):\n",
    "    \"\"\"\n",
    "    Generator function for creating random batches of training-data.\n",
    "    \"\"\"\n",
    "    # Infinite loop.\n",
    "    while True:\n",
    "        # Allocate a new array for the batch of input-signals.\n",
    "        cnn_x_shape = (batch_size, sequence_length, 2)\n",
    "        cnn_x_batch = np.zeros(shape=cnn_x_shape, dtype=np.float16)\n",
    "        aux_x_shape = (batch_size, sequence_length, 26)\n",
    "        aux_x_batch = np.zeros(shape=aux_x_shape, dtype=np.float16)\n",
    "\n",
    "        # Allocate a new array for the batch of output-signals.\n",
    "        y_shape = (batch_size, sequence_length, 1)\n",
    "        y_batch = np.zeros(shape=y_shape, dtype=np.float16)\n",
    "\n",
    "        # Fill the batch with random sequences of data.\n",
    "        for i in range(batch_size):\n",
    "            j = np.random.randint(len(x_train))\n",
    "            # Get a random start-index.\n",
    "            # This points somewhere into the training-data.\n",
    "            idx = np.random.randint(len(x_train[j]) - sequence_length)\n",
    "            \n",
    "            # Copy the sequences of data starting at this index.\n",
    "\n",
    "            cnn_x_batch[i] = x_train[j][idx:idx+sequence_length, 0:2]\n",
    "            aux_x_batch[i] = x_train[j][idx:idx+sequence_length, 2:]\n",
    "            y_batch[i] = y_train[j][idx:idx+sequence_length]\n",
    "#             x_batch[i] = x_train[j][0:sequence_length]\n",
    "#             y_batch[i] = y_train[j][0:sequence_length]\n",
    "        \n",
    "        \n",
    "        yield [cnn_x_batch, aux_x_batch], y_batch"
   ]
  },
  {
   "cell_type": "code",
   "execution_count": 120,
   "metadata": {},
   "outputs": [],
   "source": [
    "short_idx = []\n",
    "for i, data in enumerate(x_train):\n",
    "    if len(x_train[i]) < 40:\n",
    "        short_idx.append(i)\n",
    "x_train = [i for j, i in enumerate(x_train) if j not in short_idx]\n",
    "y_train = [i for j, i in enumerate(y_train) if j not in short_idx]"
   ]
  },
  {
   "cell_type": "code",
   "execution_count": 121,
   "metadata": {},
   "outputs": [],
   "source": [
    "x_len = []\n",
    "for i, data in enumerate(x_train):\n",
    "    x_len.append(len(x_train[i]))\n",
    "    "
   ]
  },
  {
   "cell_type": "code",
   "execution_count": 122,
   "metadata": {},
   "outputs": [
    {
     "data": {
      "text/plain": [
       "(array([160., 139.,   0., 122.,   0., 135., 108.,   0., 109.,   0., 108.,\n",
       "         88.,   0., 105.,   0.,  99.,  93.,   0.,  93.,   0.,  81.,   0.,\n",
       "         77.,  87.,   0.,  63.,   0.,  64.,  58.,   0.,  66.,   0.,  62.,\n",
       "         54.,   0.,  49.,   0.,  48.,  44.,   0.,  44.,   0.,  28.,   0.,\n",
       "         41.,  32.,   0.,  32.,   0.,  36.,  32.,   0.,  26.,   0.,  18.,\n",
       "         28.,   0.,  22.,   0.,  13.,   0.,  26.,  20.,   0.,  21.,   0.,\n",
       "         14.,  11.,   0.,  14.,   0.,  15.,  17.,   0.,  14.,   0.,  20.,\n",
       "          9.,   0.,  11.,   0.,   6.,   0.,  10.,  11.,   0.,   8.,   0.,\n",
       "         10.,  10.,   0.,   8.,   0.,   5.,   3.,   0.,   6.,   0.,   7.,\n",
       "          4.]),\n",
       " array([40.  , 40.59, 41.18, 41.77, 42.36, 42.95, 43.54, 44.13, 44.72,\n",
       "        45.31, 45.9 , 46.49, 47.08, 47.67, 48.26, 48.85, 49.44, 50.03,\n",
       "        50.62, 51.21, 51.8 , 52.39, 52.98, 53.57, 54.16, 54.75, 55.34,\n",
       "        55.93, 56.52, 57.11, 57.7 , 58.29, 58.88, 59.47, 60.06, 60.65,\n",
       "        61.24, 61.83, 62.42, 63.01, 63.6 , 64.19, 64.78, 65.37, 65.96,\n",
       "        66.55, 67.14, 67.73, 68.32, 68.91, 69.5 , 70.09, 70.68, 71.27,\n",
       "        71.86, 72.45, 73.04, 73.63, 74.22, 74.81, 75.4 , 75.99, 76.58,\n",
       "        77.17, 77.76, 78.35, 78.94, 79.53, 80.12, 80.71, 81.3 , 81.89,\n",
       "        82.48, 83.07, 83.66, 84.25, 84.84, 85.43, 86.02, 86.61, 87.2 ,\n",
       "        87.79, 88.38, 88.97, 89.56, 90.15, 90.74, 91.33, 91.92, 92.51,\n",
       "        93.1 , 93.69, 94.28, 94.87, 95.46, 96.05, 96.64, 97.23, 97.82,\n",
       "        98.41, 99.  ]),\n",
       " <a list of 100 Patch objects>)"
      ]
     },
     "execution_count": 122,
     "metadata": {},
     "output_type": "execute_result"
    },
    {
     "data": {
      "image/png": "[encoded data removed]",
      "text/plain": [
       "<Figure size 432x288 with 1 Axes>"
      ]
     },
     "metadata": {
      "needs_background": "light"
     },
     "output_type": "display_data"
    }
   ],
   "source": [
    "plt.hist(np.array(x_len)[np.array(x_len) < 100], bins = 100)"
   ]
  },
  {
   "cell_type": "code",
   "execution_count": null,
   "metadata": {},
   "outputs": [],
   "source": [
    "y_data[2900:]"
   ]
  },
  {
   "cell_type": "code",
   "execution_count": 124,
   "metadata": {},
   "outputs": [],
   "source": [
    "batch_size = 256\n",
    "sequence_length = 35"
   ]
  },
  {
   "cell_type": "code",
   "execution_count": 125,
   "metadata": {},
   "outputs": [],
   "source": [
    "generator = batch_generator_multi(batch_size=batch_size, sequence_length=sequence_length)\n",
    "cnnx_batch, y_batch = next(generator)"
   ]
  },
  {
   "cell_type": "code",
   "execution_count": 126,
   "metadata": {},
   "outputs": [
    {
     "data": {
      "text/plain": [
       "(256, 35, 2)"
      ]
     },
     "execution_count": 126,
     "metadata": {},
     "output_type": "execute_result"
    }
   ],
   "source": [
    "cnnx_batch[0].shape"
   ]
  },
  {
   "cell_type": "code",
   "execution_count": 127,
   "metadata": {},
   "outputs": [],
   "source": [
    "validation_data = ([np.expand_dims(x_test[:,0:2], axis=0), np.expand_dims(x_test[:,2:], axis =0)],\n",
    "                   np.expand_dims(y_test, axis=0))"
   ]
  },
  {
   "cell_type": "code",
   "execution_count": 128,
   "metadata": {},
   "outputs": [
    {
     "data": {
      "text/plain": [
       "(1, 6082, 2)"
      ]
     },
     "execution_count": 128,
     "metadata": {},
     "output_type": "execute_result"
    }
   ],
   "source": [
    "validation_data[0][0].shape"
   ]
  },
  {
   "cell_type": "code",
   "execution_count": 129,
   "metadata": {},
   "outputs": [
    {
     "data": {
      "text/plain": [
       "array([[[-0.87401427],\n",
       "        [-0.87530119],\n",
       "        [-0.87668397],\n",
       "        ...,\n",
       "        [-0.99678846],\n",
       "        [-0.99831577],\n",
       "        [-0.99988064]]])"
      ]
     },
     "execution_count": 129,
     "metadata": {},
     "output_type": "execute_result"
    }
   ],
   "source": [
    "validation_data[1]"
   ]
  },
  {
   "cell_type": "code",
   "execution_count": 150,
   "metadata": {},
   "outputs": [],
   "source": [
    "cnn_input = Input(shape=(None,2), dtype='float', name='cnn_input')\n",
    "CNN_out = Lambda(lambda x: expand_dims(x, -1))(cnn_input)\n",
    "CNN_out = (TimeDistributed(Dense(8, activation = 'tanh')))(CNN_out)\n",
    "# CNN_out = (TimeDistributed(Conv1D(16, (16), activation='tanh', padding='same')))(CNN_out)\n",
    "# CNN_out = (TimeDistributed(MaxPooling1D(pool_size=(2), strides=None, padding='valid')))(CNN_out)\n",
    "CNN_out = (TimeDistributed(Conv1D(16, (20), activation='elu', padding='same')))(CNN_out)\n",
    "CNN_out = (TimeDistributed(MaxPooling1D(pool_size=(1), strides=None, padding='valid')))(CNN_out)\n",
    "# CNN_out = Permute(dims = (2,3,1))(CNN_out)\n",
    "CNN_out = (TimeDistributed(Flatten()))(CNN_out)\n",
    "# CNN_out = (TimeDistributed(Dense(4)))(CNN_out)\n",
    "# CNN_out = Permute(dims = (2,1))(CNN_out)\n",
    "# CNN_out = (Lambda(lambda x: squeeze(x, -1)))(CNN_out)\n",
    "cnn = Model(inputs=cnn_input, outputs=CNN_out)"
   ]
  },
  {
   "cell_type": "code",
   "execution_count": 151,
   "metadata": {},
   "outputs": [
    {
     "name": "stdout",
     "output_type": "stream",
     "text": [
      "Model: \"model_8\"\n",
      "_________________________________________________________________\n",
      "Layer (type)                 Output Shape              Param #   \n",
      "=================================================================\n",
      "cnn_input (InputLayer)       [(None, None, 2)]         0         \n",
      "_________________________________________________________________\n",
      "lambda_4 (Lambda)            (None, None, 2, 1)        0         \n",
      "_________________________________________________________________\n",
      "time_distributed_16 (TimeDis (None, None, 2, 8)        16        \n",
      "_________________________________________________________________\n",
      "time_distributed_17 (TimeDis (None, None, 2, 16)       2576      \n",
      "_________________________________________________________________\n",
      "time_distributed_18 (TimeDis (None, None, 2, 16)       0         \n",
      "_________________________________________________________________\n",
      "time_distributed_19 (TimeDis (None, None, 32)          0         \n",
      "=================================================================\n",
      "Total params: 2,592\n",
      "Trainable params: 2,592\n",
      "Non-trainable params: 0\n",
      "_________________________________________________________________\n"
     ]
    }
   ],
   "source": [
    "cnn.summary()"
   ]
  },
  {
   "cell_type": "code",
   "execution_count": 152,
   "metadata": {},
   "outputs": [],
   "source": [
    "def layer_clip(input, maxx, minn):\n",
    "    return K.clip(input, minn, maxx)"
   ]
  },
  {
   "cell_type": "code",
   "execution_count": 153,
   "metadata": {},
   "outputs": [],
   "source": [
    "auxiliary_input = Input(shape=(None,26), name='aux_input')\n",
    "x = concatenate([CNN_out, auxiliary_input], axis = 2)"
   ]
  },
  {
   "cell_type": "code",
   "execution_count": 154,
   "metadata": {},
   "outputs": [],
   "source": [
    "x = GRU(80, return_sequences = True, activation = 'tanh')(x)\n",
    "x = Dropout(0.05)(x)\n",
    "# x = GRU(38,return_sequences = True, activation = 'tanh')(x)\n",
    "# x = GRU(24,return_sequences = True, activation = 'elu')(x)\n",
    "# x = Dropout(0.1)(x)\n",
    "# x = Dropout(0.2)(x)\n",
    "main_output = Dense(1, name='main_output')(x)\n",
    "model = Model(inputs=[cnn_input, auxiliary_input], outputs=[main_output])\n"
   ]
  },
  {
   "cell_type": "code",
   "execution_count": 155,
   "metadata": {},
   "outputs": [],
   "source": [
    "model.compile(optimizer='adam', loss='mean_absolute_error', metrics=['mae'])"
   ]
  },
  {
   "cell_type": "code",
   "execution_count": 156,
   "metadata": {},
   "outputs": [
    {
     "name": "stdout",
     "output_type": "stream",
     "text": [
      "Model: \"model_9\"\n",
      "__________________________________________________________________________________________________\n",
      "Layer (type)                    Output Shape         Param #     Connected to                     \n",
      "==================================================================================================\n",
      "cnn_input (InputLayer)          [(None, None, 2)]    0                                            \n",
      "__________________________________________________________________________________________________\n",
      "lambda_4 (Lambda)               (None, None, 2, 1)   0           cnn_input[0][0]                  \n",
      "__________________________________________________________________________________________________\n",
      "time_distributed_16 (TimeDistri (None, None, 2, 8)   16          lambda_4[0][0]                   \n",
      "__________________________________________________________________________________________________\n",
      "time_distributed_17 (TimeDistri (None, None, 2, 16)  2576        time_distributed_16[0][0]        \n",
      "__________________________________________________________________________________________________\n",
      "time_distributed_18 (TimeDistri (None, None, 2, 16)  0           time_distributed_17[0][0]        \n",
      "__________________________________________________________________________________________________\n",
      "time_distributed_19 (TimeDistri (None, None, 32)     0           time_distributed_18[0][0]        \n",
      "__________________________________________________________________________________________________\n",
      "aux_input (InputLayer)          [(None, None, 26)]   0                                            \n",
      "__________________________________________________________________________________________________\n",
      "concatenate_4 (Concatenate)     (None, None, 58)     0           time_distributed_19[0][0]        \n",
      "                                                                 aux_input[0][0]                  \n",
      "__________________________________________________________________________________________________\n",
      "gru_4 (GRU)                     (None, None, 80)     33360       concatenate_4[0][0]              \n",
      "__________________________________________________________________________________________________\n",
      "dropout_4 (Dropout)             (None, None, 80)     0           gru_4[0][0]                      \n",
      "__________________________________________________________________________________________________\n",
      "main_output (Dense)             (None, None, 1)      81          dropout_4[0][0]                  \n",
      "==================================================================================================\n",
      "Total params: 36,033\n",
      "Trainable params: 36,033\n",
      "Non-trainable params: 0\n",
      "__________________________________________________________________________________________________\n"
     ]
    }
   ],
   "source": [
    "model.summary()"
   ]
  },
  {
   "cell_type": "code",
   "execution_count": 62,
   "metadata": {},
   "outputs": [],
   "source": [
    "from IPython.display import SVG\n",
    "from tensorflow.python.keras.utils import model_to_dot"
   ]
  },
  {
   "cell_type": "code",
   "execution_count": 63,
   "metadata": {},
   "outputs": [
    {
     "data": {
      "image/svg+xml": [
       "<svg height=\"702pt\" viewBox=\"0.00 0.00 519.00 702.00\" width=\"519pt\" xmlns=\"http://www.w3.org/2000/svg\" xmlns:xlink=\"http://www.w3.org/1999/xlink\">\n",
       "<g class=\"graph\" id=\"graph0\" transform=\"scale(1 1) rotate(0) translate(4 698)\">\n",
       "<title>G</title>\n",
       "<polygon fill=\"#ffffff\" points=\"-4,4 -4,-698 515,-698 515,4 -4,4\" stroke=\"transparent\"/>\n",
       "<!-- 140476080699712 -->\n",
       "<g class=\"node\" id=\"node1\">\n",
       "<title>140476080699712</title>\n",
       "<polygon fill=\"none\" points=\"133,-657.5 133,-693.5 271,-693.5 271,-657.5 133,-657.5\" stroke=\"#000000\"/>\n",
       "<text fill=\"#000000\" font-family=\"Times,serif\" font-size=\"14.00\" text-anchor=\"middle\" x=\"202\" y=\"-671.8\">cnn_input: InputLayer</text>\n",
       "</g>\n",
       "<!-- 140476080698984 -->\n",
       "<g class=\"node\" id=\"node2\">\n",
       "<title>140476080698984</title>\n",
       "<polygon fill=\"none\" points=\"147,-584.5 147,-620.5 257,-620.5 257,-584.5 147,-584.5\" stroke=\"#000000\"/>\n",
       "<text fill=\"#000000\" font-family=\"Times,serif\" font-size=\"14.00\" text-anchor=\"middle\" x=\"202\" y=\"-598.8\">lambda: Lambda</text>\n",
       "</g>\n",
       "<!-- 140476080699712&#45;&gt;140476080698984 -->\n",
       "<g class=\"edge\" id=\"edge1\">\n",
       "<title>140476080699712-&gt;140476080698984</title>\n",
       "<path d=\"M202,-657.4551C202,-649.3828 202,-639.6764 202,-630.6817\" fill=\"none\" stroke=\"#000000\"/>\n",
       "<polygon fill=\"#000000\" points=\"205.5001,-630.5903 202,-620.5904 198.5001,-630.5904 205.5001,-630.5903\" stroke=\"#000000\"/>\n",
       "</g>\n",
       "<!-- 140476084595456 -->\n",
       "<g class=\"node\" id=\"node3\">\n",
       "<title>140476084595456</title>\n",
       "<polygon fill=\"none\" points=\"59,-511.5 59,-547.5 345,-547.5 345,-511.5 59,-511.5\" stroke=\"#000000\"/>\n",
       "<text fill=\"#000000\" font-family=\"Times,serif\" font-size=\"14.00\" text-anchor=\"middle\" x=\"202\" y=\"-525.8\">time_distributed(dense): TimeDistributed(Dense)</text>\n",
       "</g>\n",
       "<!-- 140476080698984&#45;&gt;140476084595456 -->\n",
       "<g class=\"edge\" id=\"edge2\">\n",
       "<title>140476080698984-&gt;140476084595456</title>\n",
       "<path d=\"M202,-584.4551C202,-576.3828 202,-566.6764 202,-557.6817\" fill=\"none\" stroke=\"#000000\"/>\n",
       "<polygon fill=\"#000000\" points=\"205.5001,-557.5903 202,-547.5904 198.5001,-557.5904 205.5001,-557.5903\" stroke=\"#000000\"/>\n",
       "</g>\n",
       "<!-- 140476079649568 -->\n",
       "<g class=\"node\" id=\"node4\">\n",
       "<title>140476079649568</title>\n",
       "<polygon fill=\"none\" points=\"42,-438.5 42,-474.5 362,-474.5 362,-438.5 42,-438.5\" stroke=\"#000000\"/>\n",
       "<text fill=\"#000000\" font-family=\"Times,serif\" font-size=\"14.00\" text-anchor=\"middle\" x=\"202\" y=\"-452.8\">time_distributed_1(conv1d): TimeDistributed(Conv1D)</text>\n",
       "</g>\n",
       "<!-- 140476084595456&#45;&gt;140476079649568 -->\n",
       "<g class=\"edge\" id=\"edge3\">\n",
       "<title>140476084595456-&gt;140476079649568</title>\n",
       "<path d=\"M202,-511.4551C202,-503.3828 202,-493.6764 202,-484.6817\" fill=\"none\" stroke=\"#000000\"/>\n",
       "<polygon fill=\"#000000\" points=\"205.5001,-484.5903 202,-474.5904 198.5001,-484.5904 205.5001,-484.5903\" stroke=\"#000000\"/>\n",
       "</g>\n",
       "<!-- 140476079200184 -->\n",
       "<g class=\"node\" id=\"node5\">\n",
       "<title>140476079200184</title>\n",
       "<polygon fill=\"none\" points=\"0,-365.5 0,-401.5 404,-401.5 404,-365.5 0,-365.5\" stroke=\"#000000\"/>\n",
       "<text fill=\"#000000\" font-family=\"Times,serif\" font-size=\"14.00\" text-anchor=\"middle\" x=\"202\" y=\"-379.8\">time_distributed_2(max_pooling1d): TimeDistributed(MaxPooling1D)</text>\n",
       "</g>\n",
       "<!-- 140476079649568&#45;&gt;140476079200184 -->\n",
       "<g class=\"edge\" id=\"edge4\">\n",
       "<title>140476079649568-&gt;140476079200184</title>\n",
       "<path d=\"M202,-438.4551C202,-430.3828 202,-420.6764 202,-411.6817\" fill=\"none\" stroke=\"#000000\"/>\n",
       "<polygon fill=\"#000000\" points=\"205.5001,-411.5903 202,-401.5904 198.5001,-411.5904 205.5001,-411.5903\" stroke=\"#000000\"/>\n",
       "</g>\n",
       "<!-- 140476079044424 -->\n",
       "<g class=\"node\" id=\"node6\">\n",
       "<title>140476079044424</title>\n",
       "<polygon fill=\"none\" points=\"48.5,-292.5 48.5,-328.5 355.5,-328.5 355.5,-292.5 48.5,-292.5\" stroke=\"#000000\"/>\n",
       "<text fill=\"#000000\" font-family=\"Times,serif\" font-size=\"14.00\" text-anchor=\"middle\" x=\"202\" y=\"-306.8\">time_distributed_3(flatten): TimeDistributed(Flatten)</text>\n",
       "</g>\n",
       "<!-- 140476079200184&#45;&gt;140476079044424 -->\n",
       "<g class=\"edge\" id=\"edge5\">\n",
       "<title>140476079200184-&gt;140476079044424</title>\n",
       "<path d=\"M202,-365.4551C202,-357.3828 202,-347.6764 202,-338.6817\" fill=\"none\" stroke=\"#000000\"/>\n",
       "<polygon fill=\"#000000\" points=\"205.5001,-338.5903 202,-328.5904 198.5001,-338.5904 205.5001,-338.5903\" stroke=\"#000000\"/>\n",
       "</g>\n",
       "<!-- 140476080251680 -->\n",
       "<g class=\"node\" id=\"node8\">\n",
       "<title>140476080251680</title>\n",
       "<polygon fill=\"none\" points=\"244.5,-219.5 244.5,-255.5 399.5,-255.5 399.5,-219.5 244.5,-219.5\" stroke=\"#000000\"/>\n",
       "<text fill=\"#000000\" font-family=\"Times,serif\" font-size=\"14.00\" text-anchor=\"middle\" x=\"322\" y=\"-233.8\">concatenate: Concatenate</text>\n",
       "</g>\n",
       "<!-- 140476079044424&#45;&gt;140476080251680 -->\n",
       "<g class=\"edge\" id=\"edge6\">\n",
       "<title>140476079044424-&gt;140476080251680</title>\n",
       "<path d=\"M231.6629,-292.4551C247.24,-282.979 266.5193,-271.2508 283.2617,-261.0658\" fill=\"none\" stroke=\"#000000\"/>\n",
       "<polygon fill=\"#000000\" points=\"285.5381,-263.7778 292.2624,-255.5904 281.9,-257.7974 285.5381,-263.7778\" stroke=\"#000000\"/>\n",
       "</g>\n",
       "<!-- 140476080254032 -->\n",
       "<g class=\"node\" id=\"node7\">\n",
       "<title>140476080254032</title>\n",
       "<polygon fill=\"none\" points=\"373,-292.5 373,-328.5 511,-328.5 511,-292.5 373,-292.5\" stroke=\"#000000\"/>\n",
       "<text fill=\"#000000\" font-family=\"Times,serif\" font-size=\"14.00\" text-anchor=\"middle\" x=\"442\" y=\"-306.8\">aux_input: InputLayer</text>\n",
       "</g>\n",
       "<!-- 140476080254032&#45;&gt;140476080251680 -->\n",
       "<g class=\"edge\" id=\"edge7\">\n",
       "<title>140476080254032-&gt;140476080251680</title>\n",
       "<path d=\"M412.3371,-292.4551C396.76,-282.979 377.4807,-271.2508 360.7383,-261.0658\" fill=\"none\" stroke=\"#000000\"/>\n",
       "<polygon fill=\"#000000\" points=\"362.1,-257.7974 351.7376,-255.5904 358.4619,-263.7778 362.1,-257.7974\" stroke=\"#000000\"/>\n",
       "</g>\n",
       "<!-- 140476078898032 -->\n",
       "<g class=\"node\" id=\"node9\">\n",
       "<title>140476078898032</title>\n",
       "<polygon fill=\"none\" points=\"286.5,-146.5 286.5,-182.5 357.5,-182.5 357.5,-146.5 286.5,-146.5\" stroke=\"#000000\"/>\n",
       "<text fill=\"#000000\" font-family=\"Times,serif\" font-size=\"14.00\" text-anchor=\"middle\" x=\"322\" y=\"-160.8\">gru: GRU</text>\n",
       "</g>\n",
       "<!-- 140476080251680&#45;&gt;140476078898032 -->\n",
       "<g class=\"edge\" id=\"edge8\">\n",
       "<title>140476080251680-&gt;140476078898032</title>\n",
       "<path d=\"M322,-219.4551C322,-211.3828 322,-201.6764 322,-192.6817\" fill=\"none\" stroke=\"#000000\"/>\n",
       "<polygon fill=\"#000000\" points=\"325.5001,-192.5903 322,-182.5904 318.5001,-192.5904 325.5001,-192.5903\" stroke=\"#000000\"/>\n",
       "</g>\n",
       "<!-- 140476078897808 -->\n",
       "<g class=\"node\" id=\"node10\">\n",
       "<title>140476078897808</title>\n",
       "<polygon fill=\"none\" points=\"266.5,-73.5 266.5,-109.5 377.5,-109.5 377.5,-73.5 266.5,-73.5\" stroke=\"#000000\"/>\n",
       "<text fill=\"#000000\" font-family=\"Times,serif\" font-size=\"14.00\" text-anchor=\"middle\" x=\"322\" y=\"-87.8\">dropout: Dropout</text>\n",
       "</g>\n",
       "<!-- 140476078898032&#45;&gt;140476078897808 -->\n",
       "<g class=\"edge\" id=\"edge9\">\n",
       "<title>140476078898032-&gt;140476078897808</title>\n",
       "<path d=\"M322,-146.4551C322,-138.3828 322,-128.6764 322,-119.6817\" fill=\"none\" stroke=\"#000000\"/>\n",
       "<polygon fill=\"#000000\" points=\"325.5001,-119.5903 322,-109.5904 318.5001,-119.5904 325.5001,-119.5903\" stroke=\"#000000\"/>\n",
       "</g>\n",
       "<!-- 140476078898200 -->\n",
       "<g class=\"node\" id=\"node11\">\n",
       "<title>140476078898200</title>\n",
       "<polygon fill=\"none\" points=\"258.5,-.5 258.5,-36.5 385.5,-36.5 385.5,-.5 258.5,-.5\" stroke=\"#000000\"/>\n",
       "<text fill=\"#000000\" font-family=\"Times,serif\" font-size=\"14.00\" text-anchor=\"middle\" x=\"322\" y=\"-14.8\">main_output: Dense</text>\n",
       "</g>\n",
       "<!-- 140476078897808&#45;&gt;140476078898200 -->\n",
       "<g class=\"edge\" id=\"edge10\">\n",
       "<title>140476078897808-&gt;140476078898200</title>\n",
       "<path d=\"M322,-73.4551C322,-65.3828 322,-55.6764 322,-46.6817\" fill=\"none\" stroke=\"#000000\"/>\n",
       "<polygon fill=\"#000000\" points=\"325.5001,-46.5903 322,-36.5904 318.5001,-46.5904 325.5001,-46.5903\" stroke=\"#000000\"/>\n",
       "</g>\n",
       "</g>\n",
       "</svg>"
      ],
      "text/plain": [
       "<IPython.core.display.SVG object>"
      ]
     },
     "execution_count": 63,
     "metadata": {},
     "output_type": "execute_result"
    }
   ],
   "source": [
    "SVG(model_to_dot(model).create(prog='dot', format='svg'))"
   ]
  },
  {
   "cell_type": "code",
   "execution_count": 48,
   "metadata": {},
   "outputs": [],
   "source": [
    "%load_ext tensorboard\n",
    "!rm -rf ./logs/ "
   ]
  },
  {
   "cell_type": "code",
   "execution_count": 157,
   "metadata": {},
   "outputs": [],
   "source": [
    "path_checkpoint = '23_checkpoint.keras'\n",
    "callback_checkpoint = ModelCheckpoint(filepath=path_checkpoint,\n",
    "                                      monitor='val_loss',\n",
    "                                      verbose=1,\n",
    "                                      save_weights_only=True,\n",
    "                                      save_best_only=True)\n",
    "callback_early_stopping = EarlyStopping(monitor='val_loss',\n",
    "                                        patience=5, verbose=1)\n",
    "callback_tensorboard = TensorBoard(log_dir='./23_logs/',\n",
    "                                   histogram_freq=0,\n",
    "                                   write_graph=False)\n",
    "callback_reduce_lr = ReduceLROnPlateau(monitor='val_loss',\n",
    "                                       factor=0.1,\n",
    "                                       min_lr=1e-4,\n",
    "                                       patience=0,\n",
    "                                       verbose=1)\n",
    "callbacks = [callback_early_stopping,\n",
    "             callback_checkpoint,\n",
    "             callback_tensorboard,\n",
    "             callback_reduce_lr]"
   ]
  },
  {
   "cell_type": "code",
   "execution_count": 540,
   "metadata": {},
   "outputs": [
    {
     "name": "stdout",
     "output_type": "stream",
     "text": [
      "0.05\n",
      "0.1\n",
      "0.2\n",
      "Epoch 00041: early stopping\n",
      "0.3\n",
      "Epoch 00043: early stopping\n",
      "0.4\n",
      "Epoch 00047: early stopping\n"
     ]
    },
    {
     "data": {
      "image/png": "[encoded data removed]",
      "text/plain": [
       "<Figure size 864x576 with 1 Axes>"
      ]
     },
     "metadata": {
      "needs_background": "light"
     },
     "output_type": "display_data"
    }
   ],
   "source": [
    "# batch_size = [40,80,120]\n",
    "num_units = [18,19,20,21,22]\n",
    "drop_rate = [0.05,0.1,0.2,0.3, 0.4]\n",
    "plt.figure(figsize=(12, 8))\n",
    "plt.plot(y_test_rescaled[1100:1500], label = 'true')\n",
    "for i, j in enumerate(drop_rate):\n",
    "    print(j)\n",
    "    generator = batch_generator_multi(batch_size=batch_size, sequence_length=sequence_length)\n",
    "    \n",
    "    path_checkpoint = '23_checkpoint.keras'\n",
    "    callback_checkpoint = ModelCheckpoint(filepath=path_checkpoint,\n",
    "                                          monitor='val_loss',\n",
    "                                          verbose=0,\n",
    "                                          save_weights_only=True,\n",
    "                                          save_best_only=True)\n",
    "    callback_early_stopping = EarlyStopping(monitor='val_loss',\n",
    "                                            patience=5, verbose=1)\n",
    "    callback_tensorboard = TensorBoard(log_dir='./23_logs/',\n",
    "                                       histogram_freq=0,\n",
    "                                       write_graph=False)\n",
    "    callback_reduce_lr = ReduceLROnPlateau(monitor='val_loss',\n",
    "                                           factor=0.1,\n",
    "                                           min_lr=1e-4,\n",
    "                                           patience=0,\n",
    "                                           verbose=0)\n",
    "\n",
    "    callbacks = [callback_early_stopping,\n",
    "                 callback_checkpoint,\n",
    "                 callback_tensorboard,\n",
    "                 callback_reduce_lr]\n",
    "    \n",
    "    cnn_input = Input(shape=(None,2), dtype='float', name='cnn_input')\n",
    "    CNN_out = Lambda(lambda x: expand_dims(x, -1))(cnn_input)\n",
    "    CNN_out = (TimeDistributed(Dense(8, activation = 'tanh')))(CNN_out)\n",
    "    # CNN_out = (TimeDistributed(Conv1D(16, (16), activation='tanh', padding='same')))(CNN_out)\n",
    "    # CNN_out = (TimeDistributed(MaxPooling1D(pool_size=(2), strides=None, padding='valid')))(CNN_out)\n",
    "    CNN_out = (TimeDistributed(Conv1D(16, (20), activation='elu', padding='same')))(CNN_out)\n",
    "    CNN_out = (TimeDistributed(MaxPooling1D(pool_size=(1), strides=None, padding='valid')))(CNN_out)\n",
    "    # CNN_out = Permute(dims = (2,3,1))(CNN_out)\n",
    "    CNN_out = (TimeDistributed(Flatten()))(CNN_out)\n",
    "    \n",
    "    auxiliary_input = Input(shape=(None,26), name='aux_input')\n",
    "    x = concatenate([CNN_out, auxiliary_input], axis = 2)\n",
    "\n",
    "    aux_input = Input(shape=(None,26), name='aux_input')\n",
    "    x = GRU(60, return_sequences = True, activation = 'tanh')(aux_input)\n",
    "    x = Dropout(j)(x)\n",
    "#     x = GRU(20,return_sequences = True, activation = 'tanh')(x)\n",
    "    main_output = Dense(1, name='main_output')(x)\n",
    "\n",
    "    model = Model(inputs= [cnn_input, aux_input], outputs=[main_output])\n",
    "    model.compile(optimizer='adam', loss='mean_absolute_error', metrics=['mae'])\n",
    "    model.fit_generator(generator=generator,\n",
    "                        epochs=50,\n",
    "                        steps_per_epoch=50,\n",
    "                        validation_data=validation_data,\n",
    "                        callbacks=callbacks,\n",
    "                       verbose = 0)\n",
    "    try:\n",
    "        model.load_weights(path_checkpoint)\n",
    "    except Exception as error:\n",
    "        print(\"Error trying to load checkpoint.\")\n",
    "        print(error)\n",
    "#     y_pred = model.predict(np.expand_dims(x_test, axis =0))\n",
    "    y_pred = model.predict([np.expand_dims(x_test[:,0:2], axis=0), np.expand_dims(x_test[:,2:], axis =0)])\n",
    "\n",
    "    y_pred_rescaled = scy.inverse_transform(y_pred[0])\n",
    "    y_test_rescaled = scy.inverse_transform(y_test)\n",
    "\n",
    "#     plt.figure(figsize=(12, 8))\n",
    "    plt.ylabel('time to dest')\n",
    "    # plt.plot(y_pred_rescaled, label = 'pred')\n",
    "    # plt.plot(y_test_rescaled, label = 'true')\n",
    "    plt.plot(y_pred_rescaled[1100:1500], label = 'dropout =' + str(j))\n",
    "\n",
    "#     plt.plot(y_test_rescaled[1400:2000], label = 'true')\n",
    "#     plt.legend()\n",
    "plt.grid(axis = 'y')\n",
    "plt.axhline(0, color='black',alpha = 0.5)\n",
    "plt.legend() \n",
    "plt.show()"
   ]
  },
  {
   "cell_type": "code",
   "execution_count": 158,
   "metadata": {},
   "outputs": [
    {
     "name": "stdout",
     "output_type": "stream",
     "text": [
      "Epoch 1/50\n",
      "199/200 [============================>.] - ETA: 0s - loss: 0.1393 - mean_absolute_error: 0.1393\n",
      "Epoch 00001: val_loss improved from inf to 0.03443, saving model to 23_checkpoint.keras\n",
      "200/200 [==============================] - 24s 120ms/step - loss: 0.1389 - mean_absolute_error: 0.1389 - val_loss: 0.0344 - val_mean_absolute_error: 0.0344\n",
      "Epoch 2/50\n",
      "199/200 [============================>.] - ETA: 0s - loss: 0.0433 - mean_absolute_error: 0.0433\n",
      "Epoch 00002: val_loss improved from 0.03443 to 0.02879, saving model to 23_checkpoint.keras\n",
      "200/200 [==============================] - 22s 110ms/step - loss: 0.0433 - mean_absolute_error: 0.0433 - val_loss: 0.0288 - val_mean_absolute_error: 0.0288\n",
      "Epoch 3/50\n",
      "199/200 [============================>.] - ETA: 0s - loss: 0.0313 - mean_absolute_error: 0.0313\n",
      "Epoch 00003: val_loss improved from 0.02879 to 0.02450, saving model to 23_checkpoint.keras\n",
      "200/200 [==============================] - 22s 111ms/step - loss: 0.0313 - mean_absolute_error: 0.0313 - val_loss: 0.0245 - val_mean_absolute_error: 0.0245\n",
      "Epoch 4/50\n",
      "199/200 [============================>.] - ETA: 0s - loss: 0.0273 - mean_absolute_error: 0.0273\n",
      "Epoch 00004: val_loss improved from 0.02450 to 0.02281, saving model to 23_checkpoint.keras\n",
      "200/200 [==============================] - 21s 105ms/step - loss: 0.0273 - mean_absolute_error: 0.0273 - val_loss: 0.0228 - val_mean_absolute_error: 0.0228\n",
      "Epoch 5/50\n",
      "199/200 [============================>.] - ETA: 0s - loss: 0.0251 - mean_absolute_error: 0.0251\n",
      "Epoch 00005: val_loss did not improve from 0.02281\n",
      "\n",
      "Epoch 00005: ReduceLROnPlateau reducing learning rate to 0.00010000000474974513.\n",
      "200/200 [==============================] - 20s 102ms/step - loss: 0.0250 - mean_absolute_error: 0.0250 - val_loss: 0.0249 - val_mean_absolute_error: 0.0249\n",
      "Epoch 6/50\n",
      "199/200 [============================>.] - ETA: 0s - loss: 0.0234 - mean_absolute_error: 0.0234\n",
      "Epoch 00006: val_loss did not improve from 0.02281\n",
      "\n",
      "Epoch 00006: ReduceLROnPlateau reducing learning rate to 0.0001.\n",
      "200/200 [==============================] - 20s 99ms/step - loss: 0.0234 - mean_absolute_error: 0.0234 - val_loss: 0.0246 - val_mean_absolute_error: 0.0246\n",
      "Epoch 7/50\n",
      "199/200 [============================>.] - ETA: 0s - loss: 0.0232 - mean_absolute_error: 0.0232\n",
      "Epoch 00007: val_loss did not improve from 0.02281\n",
      "200/200 [==============================] - 21s 105ms/step - loss: 0.0232 - mean_absolute_error: 0.0232 - val_loss: 0.0247 - val_mean_absolute_error: 0.0247\n",
      "Epoch 8/50\n",
      "199/200 [============================>.] - ETA: 0s - loss: 0.0235 - mean_absolute_error: 0.0235\n",
      "Epoch 00008: val_loss did not improve from 0.02281\n",
      "200/200 [==============================] - 20s 98ms/step - loss: 0.0235 - mean_absolute_error: 0.0235 - val_loss: 0.0251 - val_mean_absolute_error: 0.0251\n",
      "Epoch 9/50\n",
      "199/200 [============================>.] - ETA: 0s - loss: 0.0229 - mean_absolute_error: 0.0229\n",
      "Epoch 00009: val_loss did not improve from 0.02281\n",
      "200/200 [==============================] - 25s 123ms/step - loss: 0.0229 - mean_absolute_error: 0.0229 - val_loss: 0.0252 - val_mean_absolute_error: 0.0252\n",
      "Epoch 00009: early stopping\n"
     ]
    },
    {
     "data": {
      "text/plain": [
       "<matplotlib.legend.Legend at 0x7fc233fece48>"
      ]
     },
     "execution_count": 158,
     "metadata": {},
     "output_type": "execute_result"
    },
    {
     "data": {
      "image/png": "[encoded data removed]",
      "text/plain": [
       "<Figure size 864x576 with 1 Axes>"
      ]
     },
     "metadata": {
      "needs_background": "light"
     },
     "output_type": "display_data"
    }
   ],
   "source": [
    "model.fit_generator(generator=generator,\n",
    "                    epochs=50,\n",
    "                    steps_per_epoch=200,\n",
    "                    validation_data=validation_data,\n",
    "                    callbacks=callbacks)\n",
    "try:\n",
    "    model.load_weights(path_checkpoint)\n",
    "except Exception as error:\n",
    "    print(\"Error trying to load checkpoint.\")\n",
    "    print(error)\n",
    "# y_pred = model.predict(np.expand_dims(x_test, axis =0))\n",
    "y_pred = model.predict([np.expand_dims(x_test[:,0:2], axis=0), np.expand_dims(x_test[:,2:], axis =0)])\n",
    "# y_pred = model.predict([np.expand_dims(x_test[:,0:2], axis=0), np.expand_dims(x_test, axis =0)])\n",
    "\n",
    "y_pred_rescaled = scy.inverse_transform(y_pred[0])\n",
    "y_test_rescaled = scy.inverse_transform(y_test)\n",
    "\n",
    "plt.figure(figsize=(12, 8))\n",
    "plt.ylabel('time to dest')\n",
    "# plt.plot(y_pred_rescaled, label = 'pred')\n",
    "# plt.plot(y_test_rescaled, label = 'true')\n",
    "plt.plot(y_pred_rescaled[1100:1500], label = 'pred')\n",
    "plt.plot(y_test_rescaled[1100:1500], label = 'true')\n",
    "plt.legend()"
   ]
  },
  {
   "cell_type": "code",
   "execution_count": 164,
   "metadata": {},
   "outputs": [],
   "source": [
    "model.save('cnnrnn_090920')"
   ]
  },
  {
   "cell_type": "code",
   "execution_count": 165,
   "metadata": {},
   "outputs": [
    {
     "data": {
      "text/plain": [
       "['scy_090920.joblib']"
      ]
     },
     "execution_count": 165,
     "metadata": {},
     "output_type": "execute_result"
    }
   ],
   "source": [
    "dump(km, 'km_090920.joblib')\n",
    "dump(sc, 'sc_090920.joblib')\n",
    "dump(scy, 'scy_090920.joblib')"
   ]
  },
  {
   "cell_type": "code",
   "execution_count": 559,
   "metadata": {},
   "outputs": [],
   "source": [
    "model = []"
   ]
  },
  {
   "cell_type": "code",
   "execution_count": 144,
   "metadata": {},
   "outputs": [],
   "source": [
    "model = tf.keras.models.load_model('cnnrnn_080920')"
   ]
  },
  {
   "cell_type": "code",
   "execution_count": 999,
   "metadata": {},
   "outputs": [
    {
     "data": {
      "text/plain": [
       "4651"
      ]
     },
     "execution_count": 999,
     "metadata": {},
     "output_type": "execute_result"
    }
   ],
   "source": [
    "import gc\n",
    "gc.collect()"
   ]
  },
  {
   "cell_type": "code",
   "execution_count": 1153,
   "metadata": {},
   "outputs": [],
   "source": [
    "try:\n",
    "    model.load_weights(path_checkpoint)\n",
    "except Exception as error:\n",
    "    print(\"Error trying to load checkpoint.\")\n",
    "    print(error)"
   ]
  },
  {
   "cell_type": "code",
   "execution_count": 159,
   "metadata": {},
   "outputs": [],
   "source": [
    "y_pred = model.predict([np.expand_dims(x_test[:,0:2], axis=0), np.expand_dims(x_test[:,2:], axis =0)])\n"
   ]
  },
  {
   "cell_type": "code",
   "execution_count": 160,
   "metadata": {},
   "outputs": [],
   "source": [
    "y_pred_rescaled = scy.inverse_transform(y_pred[0])\n",
    "y_test_rescaled = scy.inverse_transform(y_test)"
   ]
  },
  {
   "cell_type": "code",
   "execution_count": 89,
   "metadata": {},
   "outputs": [
    {
     "data": {
      "text/plain": [
       "array([], dtype=float32)"
      ]
     },
     "execution_count": 89,
     "metadata": {},
     "output_type": "execute_result"
    }
   ],
   "source": [
    "y_pred[0][y_pred[0]> 1]"
   ]
  },
  {
   "cell_type": "code",
   "execution_count": 54,
   "metadata": {},
   "outputs": [
    {
     "data": {
      "text/plain": [
       "array([[  -6.2133083, -679.97705  , -369.50848  , -193.85101  ,\n",
       "         -46.32129  ,    3.5927632,   25.169947 ,  -41.784225 ,\n",
       "        -377.61984  , -119.50849  ,   44.801212 ,   21.03839  ,\n",
       "         -67.269806 ,  -75.1797   ,  -78.16743  ,   70.033035 ,\n",
       "          59.780655 ,  -71.6207   ,   60.132603 ,   50.914387 ,\n",
       "         -72.48271  ,  -26.772902 , -199.83667  ,   23.303095 ,\n",
       "         -56.912865 ,   -5.939146 ,   71.49693  ,   18.215158 ,\n",
       "           6.1227036,   14.955818 ,   55.697556 , -315.23462  ,\n",
       "        -427.98532  , -359.95743  , -191.1757   , -149.03381  ,\n",
       "        -177.82721  , -275.8025   , -109.95745  ,  -18.349117 ,\n",
       "         -63.29765  ,   32.72789  ,   61.267506 , -186.2918   ,\n",
       "          71.410225 , -338.7284   ,   21.573961 ,   73.79734  ]],\n",
       "      dtype=float32)"
      ]
     },
     "execution_count": 54,
     "metadata": {},
     "output_type": "execute_result"
    }
   ],
   "source": [
    "scy.inverse_transform(y_pred[0][y_pred[0] < -1].reshape(1,-1))"
   ]
  },
  {
   "cell_type": "code",
   "execution_count": 55,
   "metadata": {},
   "outputs": [
    {
     "data": {
      "text/plain": [
       "array([[[-0.85343754],\n",
       "        [-0.8366564 ],\n",
       "        [-0.8664592 ],\n",
       "        ...,\n",
       "        [-0.9835301 ],\n",
       "        [-0.98438215],\n",
       "        [-0.9851012 ]]], dtype=float32)"
      ]
     },
     "execution_count": 55,
     "metadata": {},
     "output_type": "execute_result"
    }
   ],
   "source": [
    "y_pred"
   ]
  },
  {
   "cell_type": "code",
   "execution_count": 56,
   "metadata": {},
   "outputs": [
    {
     "data": {
      "text/plain": [
       "array([[1642.77   ],\n",
       "       [1822.2766 ],\n",
       "       [1503.4785 ],\n",
       "       ...,\n",
       "       [ 251.18074],\n",
       "       [ 242.06645],\n",
       "       [ 234.37462]], dtype=float32)"
      ]
     },
     "execution_count": 56,
     "metadata": {},
     "output_type": "execute_result"
    }
   ],
   "source": [
    "y_pred_rescaled "
   ]
  },
  {
   "cell_type": "code",
   "execution_count": 57,
   "metadata": {},
   "outputs": [
    {
     "data": {
      "text/plain": [
       "array([[1562.7059783 ],\n",
       "       [1545.0795678 ],\n",
       "       [1535.61586785],\n",
       "       ...,\n",
       "       [ 108.24406279],\n",
       "       [  90.70036876],\n",
       "       [  84.82847674]])"
      ]
     },
     "execution_count": 57,
     "metadata": {},
     "output_type": "execute_result"
    }
   ],
   "source": [
    "y_test_rescaled "
   ]
  },
  {
   "cell_type": "code",
   "execution_count": 161,
   "metadata": {},
   "outputs": [
    {
     "data": {
      "text/plain": [
       "<matplotlib.collections.PathCollection at 0x7fc23562e828>"
      ]
     },
     "execution_count": 161,
     "metadata": {},
     "output_type": "execute_result"
    },
    {
     "data": {
      "image/png": "[encoded data removed]",
      "text/plain": [
       "<Figure size 864x576 with 1 Axes>"
      ]
     },
     "metadata": {
      "needs_background": "light"
     },
     "output_type": "display_data"
    }
   ],
   "source": [
    "plt.figure(figsize=(12, 8))\n",
    "plt.scatter(y_test_rescaled[120:160] , y_pred_rescaled[120:160])\n"
   ]
  },
  {
   "cell_type": "code",
   "execution_count": 162,
   "metadata": {},
   "outputs": [
    {
     "data": {
      "text/plain": [
       "<matplotlib.legend.Legend at 0x7fc2355de4e0>"
      ]
     },
     "execution_count": 162,
     "metadata": {},
     "output_type": "execute_result"
    },
    {
     "data": {
      "image/png": "[encoded data removed]",
      "text/plain": [
       "<Figure size 1224x576 with 1 Axes>"
      ]
     },
     "metadata": {
      "needs_background": "light"
     },
     "output_type": "display_data"
    }
   ],
   "source": [
    "plt.figure(figsize=(17, 8))\n",
    "plt.ylabel('time to dest')\n",
    "# plt.plot(y_pred_rescaled, label = 'pred')\n",
    "# plt.plot(y_test_rescaled, label = 'true')\n",
    "plt.plot(y_pred_rescaled[400:2500], label = 'pred')\n",
    "plt.plot(y_test_rescaled[400:2500], label = 'true')\n",
    "plt.legend()"
   ]
  },
  {
   "cell_type": "code",
   "execution_count": 163,
   "metadata": {},
   "outputs": [
    {
     "data": {
      "text/plain": [
       "<matplotlib.legend.Legend at 0x7fc2355964a8>"
      ]
     },
     "execution_count": 163,
     "metadata": {},
     "output_type": "execute_result"
    },
    {
     "data": {
      "image/png": "[encoded data removed]",
      "text/plain": [
       "<Figure size 864x576 with 1 Axes>"
      ]
     },
     "metadata": {
      "needs_background": "light"
     },
     "output_type": "display_data"
    }
   ],
   "source": [
    "plt.figure(figsize=(12, 8))\n",
    "plt.ylabel('time to dest')\n",
    "plt.xlabel('idx')\n",
    "\n",
    "plt.plot(y_pred_rescaled[1650:1950], label = 'pred')\n",
    "plt.plot(y_test_rescaled[1650:1950], label = 'true')\n",
    "plt.grid(axis = 'y')\n",
    "plt.axhline(0, color='black',alpha = 0.5)\n",
    "plt.legend()"
   ]
  },
  {
   "cell_type": "code",
   "execution_count": 225,
   "metadata": {},
   "outputs": [],
   "source": [
    "from CNN_RNN import derive_features"
   ]
  },
  {
   "cell_type": "code",
   "execution_count": 277,
   "metadata": {},
   "outputs": [
    {
     "data": {
      "text/plain": [
       "<matplotlib.legend.Legend at 0x7fc2347c4668>"
      ]
     },
     "execution_count": 277,
     "metadata": {},
     "output_type": "execute_result"
    },
    {
     "data": {
      "image/png": "[encoded data removed]",
      "text/plain": [
       "<Figure size 864x576 with 1 Axes>"
      ]
     },
     "metadata": {
      "needs_background": "light"
     },
     "output_type": "display_data"
    }
   ],
   "source": [
    "goog = derive_features(c[34], km)\n",
    "\n",
    "goog = goog[0:3]\n",
    "\n",
    "goog_true = goog['time_to_dest'].values\n",
    "goog = goog.drop(['Unnamed: 0', 'time', 'ID', 'time_elapsed_seconds', 'time_to_dest', 'next_lat', 'next_lon'] ,axis =1)\n",
    "\n",
    "goog = sc.transform(goog.values)\n",
    "\n",
    "goog_pred = model.predict([np.expand_dims(goog[:,0:2], axis=0), np.expand_dims(goog[:,2:], axis =0)])\n",
    "\n",
    "goog_pred = scy.inverse_transform(goog_pred[0])\n",
    "\n",
    "plt.figure(figsize=(12, 8))\n",
    "plt.ylabel('time to dest')\n",
    "plt.xlabel('idx')\n",
    "\n",
    "plt.plot(goog_pred, label = 'pred')\n",
    "plt.plot(goog_true, label = 'true')\n",
    "plt.grid(axis = 'y')\n",
    "plt.axhline(0, color='black',alpha = 0.5)\n",
    "plt.legend()"
   ]
  },
  {
   "cell_type": "code",
   "execution_count": 287,
   "metadata": {},
   "outputs": [
    {
     "data": {
      "text/plain": [
       "array([1038.8372 , 1076.9026 ,  975.93176], dtype=float32)"
      ]
     },
     "execution_count": 287,
     "metadata": {},
     "output_type": "execute_result"
    }
   ],
   "source": [
    "goog_pred.flatten().tolist()"
   ]
  },
  {
   "cell_type": "code",
   "execution_count": 161,
   "metadata": {},
   "outputs": [],
   "source": [
    "from sklearn.metrics import mean_absolute_error"
   ]
  },
  {
   "cell_type": "code",
   "execution_count": 325,
   "metadata": {},
   "outputs": [
    {
     "data": {
      "text/plain": [
       "254.3194663760776"
      ]
     },
     "execution_count": 325,
     "metadata": {},
     "output_type": "execute_result"
    }
   ],
   "source": [
    "mean_absolute_error(y_test_rescaled , y_pred_rescaled )"
   ]
  },
  {
   "cell_type": "code",
   "execution_count": 181,
   "metadata": {},
   "outputs": [],
   "source": [
    "import requests\n",
    "\n",
    "# initialize the Keras REST API endpoint URL along with the input\n",
    "# image path\n",
    "KERAS_REST_API_URL = \"http://localhost:5000/predict\""
   ]
  },
  {
   "cell_type": "code",
   "execution_count": null,
   "metadata": {},
   "outputs": [],
   "source": [
    "c[1].to_json()"
   ]
  },
  {
   "cell_type": "code",
   "execution_count": null,
   "metadata": {},
   "outputs": [],
   "source": [
    "fool = pd.read_json(c[1].to_json(), convert_dates = ['time'])\n",
    "compute_speed(fool)"
   ]
  },
  {
   "cell_type": "code",
   "execution_count": 285,
   "metadata": {},
   "outputs": [],
   "source": [
    "r = requests.post(KERAS_REST_API_URL, json = c[1].to_json()).json()"
   ]
  },
  {
   "cell_type": "code",
   "execution_count": null,
   "metadata": {},
   "outputs": [],
   "source": []
  }
 ],
 "metadata": {
  "kernelspec": {
   "display_name": "Python 3",
   "language": "python",
   "name": "python3"
  },
  "language_info": {
   "codemirror_mode": {
    "name": "ipython",
    "version": 3
   },
   "file_extension": ".py",
   "mimetype": "text/x-python",
   "name": "python",
   "nbconvert_exporter": "python",
   "pygments_lexer": "ipython3",
   "version": "3.7.3"
  }
 },
 "nbformat": 4,
 "nbformat_minor": 4
}
